{
 "cells": [
  {
   "cell_type": "code",
   "execution_count": 148,
   "id": "a916dd7b",
   "metadata": {},
   "outputs": [],
   "source": [
    "import pandas as pd\n",
    "import numpy as np\n",
    "import seaborn as sns\n",
    "import matplotlib.pyplot as plt\n",
    "from sklearn.model_selection import train_test_split\n",
    "from sklearn.preprocessing import MinMaxScaler\n",
    "from sklearn.linear_model import LinearRegression"
   ]
  },
  {
   "cell_type": "code",
   "execution_count": 2,
   "id": "64182ef3",
   "metadata": {},
   "outputs": [],
   "source": [
    "df = pd.read_csv('cars24-car-price-cleaned.csv')"
   ]
  },
  {
   "cell_type": "code",
   "execution_count": 3,
   "id": "10d22f45",
   "metadata": {},
   "outputs": [
    {
     "data": {
      "text/html": [
       "<div>\n",
       "<style scoped>\n",
       "    .dataframe tbody tr th:only-of-type {\n",
       "        vertical-align: middle;\n",
       "    }\n",
       "\n",
       "    .dataframe tbody tr th {\n",
       "        vertical-align: top;\n",
       "    }\n",
       "\n",
       "    .dataframe thead th {\n",
       "        text-align: right;\n",
       "    }\n",
       "</style>\n",
       "<table border=\"1\" class=\"dataframe\">\n",
       "  <thead>\n",
       "    <tr style=\"text-align: right;\">\n",
       "      <th></th>\n",
       "      <th>selling_price</th>\n",
       "      <th>year</th>\n",
       "      <th>km_driven</th>\n",
       "      <th>mileage</th>\n",
       "      <th>engine</th>\n",
       "      <th>max_power</th>\n",
       "      <th>age</th>\n",
       "      <th>make</th>\n",
       "      <th>model</th>\n",
       "      <th>Individual</th>\n",
       "      <th>Trustmark Dealer</th>\n",
       "      <th>Diesel</th>\n",
       "      <th>Electric</th>\n",
       "      <th>LPG</th>\n",
       "      <th>Petrol</th>\n",
       "      <th>Manual</th>\n",
       "      <th>5</th>\n",
       "      <th>&gt;5</th>\n",
       "    </tr>\n",
       "  </thead>\n",
       "  <tbody>\n",
       "    <tr>\n",
       "      <th>0</th>\n",
       "      <td>1.20</td>\n",
       "      <td>2012.0</td>\n",
       "      <td>120000</td>\n",
       "      <td>19.70</td>\n",
       "      <td>796.0</td>\n",
       "      <td>46.30</td>\n",
       "      <td>11.0</td>\n",
       "      <td>MARUTI</td>\n",
       "      <td>ALTO STD</td>\n",
       "      <td>1</td>\n",
       "      <td>0</td>\n",
       "      <td>0</td>\n",
       "      <td>0</td>\n",
       "      <td>0</td>\n",
       "      <td>1</td>\n",
       "      <td>1</td>\n",
       "      <td>1</td>\n",
       "      <td>0</td>\n",
       "    </tr>\n",
       "    <tr>\n",
       "      <th>1</th>\n",
       "      <td>5.50</td>\n",
       "      <td>2016.0</td>\n",
       "      <td>20000</td>\n",
       "      <td>18.90</td>\n",
       "      <td>1197.0</td>\n",
       "      <td>82.00</td>\n",
       "      <td>7.0</td>\n",
       "      <td>HYUNDAI</td>\n",
       "      <td>GRAND I10 ASTA</td>\n",
       "      <td>1</td>\n",
       "      <td>0</td>\n",
       "      <td>0</td>\n",
       "      <td>0</td>\n",
       "      <td>0</td>\n",
       "      <td>1</td>\n",
       "      <td>1</td>\n",
       "      <td>1</td>\n",
       "      <td>0</td>\n",
       "    </tr>\n",
       "    <tr>\n",
       "      <th>2</th>\n",
       "      <td>2.15</td>\n",
       "      <td>2010.0</td>\n",
       "      <td>60000</td>\n",
       "      <td>17.00</td>\n",
       "      <td>1197.0</td>\n",
       "      <td>80.00</td>\n",
       "      <td>13.0</td>\n",
       "      <td>HYUNDAI</td>\n",
       "      <td>I20 ASTA</td>\n",
       "      <td>1</td>\n",
       "      <td>0</td>\n",
       "      <td>0</td>\n",
       "      <td>0</td>\n",
       "      <td>0</td>\n",
       "      <td>1</td>\n",
       "      <td>1</td>\n",
       "      <td>1</td>\n",
       "      <td>0</td>\n",
       "    </tr>\n",
       "    <tr>\n",
       "      <th>3</th>\n",
       "      <td>2.26</td>\n",
       "      <td>2012.0</td>\n",
       "      <td>37000</td>\n",
       "      <td>20.92</td>\n",
       "      <td>998.0</td>\n",
       "      <td>67.10</td>\n",
       "      <td>11.0</td>\n",
       "      <td>MARUTI</td>\n",
       "      <td>ALTO K10 2010-2014 VXI</td>\n",
       "      <td>1</td>\n",
       "      <td>0</td>\n",
       "      <td>0</td>\n",
       "      <td>0</td>\n",
       "      <td>0</td>\n",
       "      <td>1</td>\n",
       "      <td>1</td>\n",
       "      <td>1</td>\n",
       "      <td>0</td>\n",
       "    </tr>\n",
       "    <tr>\n",
       "      <th>4</th>\n",
       "      <td>5.70</td>\n",
       "      <td>2015.0</td>\n",
       "      <td>30000</td>\n",
       "      <td>22.77</td>\n",
       "      <td>1498.0</td>\n",
       "      <td>98.59</td>\n",
       "      <td>8.0</td>\n",
       "      <td>FORD</td>\n",
       "      <td>ECOSPORT 2015-2021 1.5 TDCI TITANIUM BSIV</td>\n",
       "      <td>0</td>\n",
       "      <td>0</td>\n",
       "      <td>1</td>\n",
       "      <td>0</td>\n",
       "      <td>0</td>\n",
       "      <td>0</td>\n",
       "      <td>1</td>\n",
       "      <td>1</td>\n",
       "      <td>0</td>\n",
       "    </tr>\n",
       "  </tbody>\n",
       "</table>\n",
       "</div>"
      ],
      "text/plain": [
       "   selling_price    year  km_driven  mileage  engine  max_power   age  \\\n",
       "0           1.20  2012.0     120000    19.70   796.0      46.30  11.0   \n",
       "1           5.50  2016.0      20000    18.90  1197.0      82.00   7.0   \n",
       "2           2.15  2010.0      60000    17.00  1197.0      80.00  13.0   \n",
       "3           2.26  2012.0      37000    20.92   998.0      67.10  11.0   \n",
       "4           5.70  2015.0      30000    22.77  1498.0      98.59   8.0   \n",
       "\n",
       "      make                                      model  Individual  \\\n",
       "0   MARUTI                                   ALTO STD           1   \n",
       "1  HYUNDAI                             GRAND I10 ASTA           1   \n",
       "2  HYUNDAI                                   I20 ASTA           1   \n",
       "3   MARUTI                     ALTO K10 2010-2014 VXI           1   \n",
       "4     FORD  ECOSPORT 2015-2021 1.5 TDCI TITANIUM BSIV           0   \n",
       "\n",
       "   Trustmark Dealer  Diesel  Electric  LPG  Petrol  Manual  5  >5  \n",
       "0                 0       0         0    0       1       1  1   0  \n",
       "1                 0       0         0    0       1       1  1   0  \n",
       "2                 0       0         0    0       1       1  1   0  \n",
       "3                 0       0         0    0       1       1  1   0  \n",
       "4                 0       1         0    0       0       1  1   0  "
      ]
     },
     "execution_count": 3,
     "metadata": {},
     "output_type": "execute_result"
    }
   ],
   "source": [
    "df.head()"
   ]
  },
  {
   "cell_type": "code",
   "execution_count": 4,
   "id": "113c8398",
   "metadata": {},
   "outputs": [
    {
     "data": {
      "text/plain": [
       "(19820, 18)"
      ]
     },
     "execution_count": 4,
     "metadata": {},
     "output_type": "execute_result"
    }
   ],
   "source": [
    "df.shape"
   ]
  },
  {
   "cell_type": "code",
   "execution_count": 5,
   "id": "4b0262bb",
   "metadata": {},
   "outputs": [
    {
     "name": "stdout",
     "output_type": "stream",
     "text": [
      "<class 'pandas.core.frame.DataFrame'>\n",
      "RangeIndex: 19820 entries, 0 to 19819\n",
      "Data columns (total 18 columns):\n",
      " #   Column            Non-Null Count  Dtype  \n",
      "---  ------            --------------  -----  \n",
      " 0   selling_price     19820 non-null  float64\n",
      " 1   year              19820 non-null  float64\n",
      " 2   km_driven         19820 non-null  int64  \n",
      " 3   mileage           19820 non-null  float64\n",
      " 4   engine            19820 non-null  float64\n",
      " 5   max_power         19820 non-null  float64\n",
      " 6   age               19820 non-null  float64\n",
      " 7   make              19820 non-null  object \n",
      " 8   model             19820 non-null  object \n",
      " 9   Individual        19820 non-null  int64  \n",
      " 10  Trustmark Dealer  19820 non-null  int64  \n",
      " 11  Diesel            19820 non-null  int64  \n",
      " 12  Electric          19820 non-null  int64  \n",
      " 13  LPG               19820 non-null  int64  \n",
      " 14  Petrol            19820 non-null  int64  \n",
      " 15  Manual            19820 non-null  int64  \n",
      " 16  5                 19820 non-null  int64  \n",
      " 17  >5                19820 non-null  int64  \n",
      "dtypes: float64(6), int64(10), object(2)\n",
      "memory usage: 2.7+ MB\n"
     ]
    }
   ],
   "source": [
    "df.info()"
   ]
  },
  {
   "cell_type": "code",
   "execution_count": 6,
   "id": "c8b07a5e",
   "metadata": {},
   "outputs": [
    {
     "data": {
      "text/plain": [
       "Index(['selling_price', 'year', 'km_driven', 'mileage', 'engine', 'max_power',\n",
       "       'age', 'make', 'model', 'Individual', 'Trustmark Dealer', 'Diesel',\n",
       "       'Electric', 'LPG', 'Petrol', 'Manual', '5', '>5'],\n",
       "      dtype='object')"
      ]
     },
     "execution_count": 6,
     "metadata": {},
     "output_type": "execute_result"
    }
   ],
   "source": [
    "df.columns"
   ]
  },
  {
   "cell_type": "code",
   "execution_count": 8,
   "id": "e1e667d0",
   "metadata": {},
   "outputs": [],
   "source": [
    "df.rename(columns={'5':'5Years','>5':'5_MoreYears'}, inplace=True)"
   ]
  },
  {
   "cell_type": "code",
   "execution_count": 10,
   "id": "95773d9e",
   "metadata": {},
   "outputs": [
    {
     "data": {
      "text/plain": [
       "Index(['selling_price', 'year', 'km_driven', 'mileage', 'engine', 'max_power',\n",
       "       'age', 'make', 'model', 'Individual', 'Trustmark Dealer', 'Diesel',\n",
       "       'Electric', 'LPG', 'Petrol', 'Manual', '5Years', '5_MoreYears'],\n",
       "      dtype='object')"
      ]
     },
     "execution_count": 10,
     "metadata": {},
     "output_type": "execute_result"
    }
   ],
   "source": [
    "df.columns"
   ]
  },
  {
   "cell_type": "code",
   "execution_count": 11,
   "id": "34fd7ce3",
   "metadata": {},
   "outputs": [
    {
     "data": {
      "text/html": [
       "<div>\n",
       "<style scoped>\n",
       "    .dataframe tbody tr th:only-of-type {\n",
       "        vertical-align: middle;\n",
       "    }\n",
       "\n",
       "    .dataframe tbody tr th {\n",
       "        vertical-align: top;\n",
       "    }\n",
       "\n",
       "    .dataframe thead th {\n",
       "        text-align: right;\n",
       "    }\n",
       "</style>\n",
       "<table border=\"1\" class=\"dataframe\">\n",
       "  <thead>\n",
       "    <tr style=\"text-align: right;\">\n",
       "      <th></th>\n",
       "      <th>selling_price</th>\n",
       "      <th>year</th>\n",
       "      <th>km_driven</th>\n",
       "      <th>mileage</th>\n",
       "      <th>engine</th>\n",
       "      <th>max_power</th>\n",
       "      <th>age</th>\n",
       "      <th>make</th>\n",
       "      <th>model</th>\n",
       "      <th>Individual</th>\n",
       "      <th>Trustmark Dealer</th>\n",
       "      <th>Diesel</th>\n",
       "      <th>Electric</th>\n",
       "      <th>LPG</th>\n",
       "      <th>Petrol</th>\n",
       "      <th>Manual</th>\n",
       "      <th>5Years</th>\n",
       "      <th>5_MoreYears</th>\n",
       "    </tr>\n",
       "  </thead>\n",
       "  <tbody>\n",
       "    <tr>\n",
       "      <th>0</th>\n",
       "      <td>1.20</td>\n",
       "      <td>2012.0</td>\n",
       "      <td>120000</td>\n",
       "      <td>19.70</td>\n",
       "      <td>796.0</td>\n",
       "      <td>46.3</td>\n",
       "      <td>11.0</td>\n",
       "      <td>MARUTI</td>\n",
       "      <td>ALTO STD</td>\n",
       "      <td>1</td>\n",
       "      <td>0</td>\n",
       "      <td>0</td>\n",
       "      <td>0</td>\n",
       "      <td>0</td>\n",
       "      <td>1</td>\n",
       "      <td>1</td>\n",
       "      <td>1</td>\n",
       "      <td>0</td>\n",
       "    </tr>\n",
       "    <tr>\n",
       "      <th>1</th>\n",
       "      <td>5.50</td>\n",
       "      <td>2016.0</td>\n",
       "      <td>20000</td>\n",
       "      <td>18.90</td>\n",
       "      <td>1197.0</td>\n",
       "      <td>82.0</td>\n",
       "      <td>7.0</td>\n",
       "      <td>HYUNDAI</td>\n",
       "      <td>GRAND I10 ASTA</td>\n",
       "      <td>1</td>\n",
       "      <td>0</td>\n",
       "      <td>0</td>\n",
       "      <td>0</td>\n",
       "      <td>0</td>\n",
       "      <td>1</td>\n",
       "      <td>1</td>\n",
       "      <td>1</td>\n",
       "      <td>0</td>\n",
       "    </tr>\n",
       "    <tr>\n",
       "      <th>2</th>\n",
       "      <td>2.15</td>\n",
       "      <td>2010.0</td>\n",
       "      <td>60000</td>\n",
       "      <td>17.00</td>\n",
       "      <td>1197.0</td>\n",
       "      <td>80.0</td>\n",
       "      <td>13.0</td>\n",
       "      <td>HYUNDAI</td>\n",
       "      <td>I20 ASTA</td>\n",
       "      <td>1</td>\n",
       "      <td>0</td>\n",
       "      <td>0</td>\n",
       "      <td>0</td>\n",
       "      <td>0</td>\n",
       "      <td>1</td>\n",
       "      <td>1</td>\n",
       "      <td>1</td>\n",
       "      <td>0</td>\n",
       "    </tr>\n",
       "    <tr>\n",
       "      <th>3</th>\n",
       "      <td>2.26</td>\n",
       "      <td>2012.0</td>\n",
       "      <td>37000</td>\n",
       "      <td>20.92</td>\n",
       "      <td>998.0</td>\n",
       "      <td>67.1</td>\n",
       "      <td>11.0</td>\n",
       "      <td>MARUTI</td>\n",
       "      <td>ALTO K10 2010-2014 VXI</td>\n",
       "      <td>1</td>\n",
       "      <td>0</td>\n",
       "      <td>0</td>\n",
       "      <td>0</td>\n",
       "      <td>0</td>\n",
       "      <td>1</td>\n",
       "      <td>1</td>\n",
       "      <td>1</td>\n",
       "      <td>0</td>\n",
       "    </tr>\n",
       "  </tbody>\n",
       "</table>\n",
       "</div>"
      ],
      "text/plain": [
       "   selling_price    year  km_driven  mileage  engine  max_power   age  \\\n",
       "0           1.20  2012.0     120000    19.70   796.0       46.3  11.0   \n",
       "1           5.50  2016.0      20000    18.90  1197.0       82.0   7.0   \n",
       "2           2.15  2010.0      60000    17.00  1197.0       80.0  13.0   \n",
       "3           2.26  2012.0      37000    20.92   998.0       67.1  11.0   \n",
       "\n",
       "      make                   model  Individual  Trustmark Dealer  Diesel  \\\n",
       "0   MARUTI                ALTO STD           1                 0       0   \n",
       "1  HYUNDAI          GRAND I10 ASTA           1                 0       0   \n",
       "2  HYUNDAI                I20 ASTA           1                 0       0   \n",
       "3   MARUTI  ALTO K10 2010-2014 VXI           1                 0       0   \n",
       "\n",
       "   Electric  LPG  Petrol  Manual  5Years  5_MoreYears  \n",
       "0         0    0       1       1       1            0  \n",
       "1         0    0       1       1       1            0  \n",
       "2         0    0       1       1       1            0  \n",
       "3         0    0       1       1       1            0  "
      ]
     },
     "execution_count": 11,
     "metadata": {},
     "output_type": "execute_result"
    }
   ],
   "source": [
    "df[:4]"
   ]
  },
  {
   "cell_type": "code",
   "execution_count": 14,
   "id": "3e728ce6",
   "metadata": {},
   "outputs": [
    {
     "data": {
      "text/plain": [
       "27"
      ]
     },
     "execution_count": 14,
     "metadata": {},
     "output_type": "execute_result"
    }
   ],
   "source": [
    "df['year'].nunique()"
   ]
  },
  {
   "cell_type": "code",
   "execution_count": 19,
   "id": "868053a5",
   "metadata": {},
   "outputs": [
    {
     "data": {
      "text/plain": [
       "(1992.0, 2021.0)"
      ]
     },
     "execution_count": 19,
     "metadata": {},
     "output_type": "execute_result"
    }
   ],
   "source": [
    "df['year'].min(), df['year'].max()"
   ]
  },
  {
   "cell_type": "code",
   "execution_count": 22,
   "id": "77cc6d89",
   "metadata": {},
   "outputs": [
    {
     "data": {
      "text/plain": [
       "(2.0, 31.0)"
      ]
     },
     "execution_count": 22,
     "metadata": {},
     "output_type": "execute_result"
    }
   ],
   "source": [
    "df['age'].min(), df['age'].max()"
   ]
  },
  {
   "cell_type": "code",
   "execution_count": 24,
   "id": "5b46f63e",
   "metadata": {},
   "outputs": [
    {
     "data": {
      "text/html": [
       "<div>\n",
       "<style scoped>\n",
       "    .dataframe tbody tr th:only-of-type {\n",
       "        vertical-align: middle;\n",
       "    }\n",
       "\n",
       "    .dataframe tbody tr th {\n",
       "        vertical-align: top;\n",
       "    }\n",
       "\n",
       "    .dataframe thead th {\n",
       "        text-align: right;\n",
       "    }\n",
       "</style>\n",
       "<table border=\"1\" class=\"dataframe\">\n",
       "  <thead>\n",
       "    <tr style=\"text-align: right;\">\n",
       "      <th></th>\n",
       "      <th>selling_price</th>\n",
       "      <th>year</th>\n",
       "      <th>km_driven</th>\n",
       "      <th>mileage</th>\n",
       "      <th>engine</th>\n",
       "      <th>max_power</th>\n",
       "      <th>age</th>\n",
       "      <th>make</th>\n",
       "      <th>model</th>\n",
       "      <th>Individual</th>\n",
       "      <th>Trustmark Dealer</th>\n",
       "      <th>Diesel</th>\n",
       "      <th>Electric</th>\n",
       "      <th>LPG</th>\n",
       "      <th>Petrol</th>\n",
       "      <th>Manual</th>\n",
       "      <th>5Years</th>\n",
       "      <th>5_MoreYears</th>\n",
       "    </tr>\n",
       "  </thead>\n",
       "  <tbody>\n",
       "    <tr>\n",
       "      <th>3354</th>\n",
       "      <td>0.6</td>\n",
       "      <td>1992.0</td>\n",
       "      <td>22612</td>\n",
       "      <td>22.05</td>\n",
       "      <td>796.0</td>\n",
       "      <td>47.3</td>\n",
       "      <td>31.0</td>\n",
       "      <td>MARUTI</td>\n",
       "      <td>ALTO 800 STD</td>\n",
       "      <td>0</td>\n",
       "      <td>0</td>\n",
       "      <td>0</td>\n",
       "      <td>0</td>\n",
       "      <td>0</td>\n",
       "      <td>1</td>\n",
       "      <td>1</td>\n",
       "      <td>1</td>\n",
       "      <td>0</td>\n",
       "    </tr>\n",
       "  </tbody>\n",
       "</table>\n",
       "</div>"
      ],
      "text/plain": [
       "      selling_price    year  km_driven  mileage  engine  max_power   age  \\\n",
       "3354            0.6  1992.0      22612    22.05   796.0       47.3  31.0   \n",
       "\n",
       "        make         model  Individual  Trustmark Dealer  Diesel  Electric  \\\n",
       "3354  MARUTI  ALTO 800 STD           0                 0       0         0   \n",
       "\n",
       "      LPG  Petrol  Manual  5Years  5_MoreYears  \n",
       "3354    0       1       1       1            0  "
      ]
     },
     "execution_count": 24,
     "metadata": {},
     "output_type": "execute_result"
    }
   ],
   "source": [
    "df[df['age'] == 31.0]"
   ]
  },
  {
   "cell_type": "code",
   "execution_count": 26,
   "id": "b16185e8",
   "metadata": {},
   "outputs": [
    {
     "data": {
      "text/plain": [
       "41"
      ]
     },
     "execution_count": 26,
     "metadata": {},
     "output_type": "execute_result"
    }
   ],
   "source": [
    "df['make'].nunique()"
   ]
  },
  {
   "cell_type": "code",
   "execution_count": 28,
   "id": "72e03917",
   "metadata": {},
   "outputs": [
    {
     "data": {
      "text/plain": [
       "3233"
      ]
     },
     "execution_count": 28,
     "metadata": {},
     "output_type": "execute_result"
    }
   ],
   "source": [
    "df['model'].nunique()"
   ]
  },
  {
   "cell_type": "code",
   "execution_count": 38,
   "id": "69b09007",
   "metadata": {},
   "outputs": [
    {
     "data": {
      "text/plain": [
       "selling_price       0\n",
       "year                0\n",
       "km_driven           0\n",
       "mileage             0\n",
       "engine              0\n",
       "max_power           0\n",
       "age                 0\n",
       "make                0\n",
       "model               0\n",
       "Individual          0\n",
       "Trustmark Dealer    0\n",
       "Diesel              0\n",
       "Electric            0\n",
       "LPG                 0\n",
       "Petrol              0\n",
       "Manual              0\n",
       "5Years              0\n",
       "5_MoreYears         0\n",
       "dtype: int64"
      ]
     },
     "execution_count": 38,
     "metadata": {},
     "output_type": "execute_result"
    }
   ],
   "source": [
    "df.isna().sum()"
   ]
  },
  {
   "cell_type": "code",
   "execution_count": 44,
   "id": "76a5cef2",
   "metadata": {},
   "outputs": [
    {
     "data": {
      "image/png": "[encoded data removed]",
      "text/plain": [
       "<Figure size 1200x400 with 1 Axes>"
      ]
     },
     "metadata": {},
     "output_type": "display_data"
    }
   ],
   "source": [
    "plt.figure(figsize=(12,4))\n",
    "sns.lineplot(data=df, x='year', y='selling_price')\n",
    "plt.xticks(np.arange(1992,2022))\n",
    "plt.xticks(rotation = 90)\n",
    "plt.grid(axis='x')\n",
    "plt.show()"
   ]
  },
  {
   "cell_type": "code",
   "execution_count": 47,
   "id": "faf39949",
   "metadata": {},
   "outputs": [
    {
     "data": {
      "text/plain": [
       "(100, 3800000)"
      ]
     },
     "execution_count": 47,
     "metadata": {},
     "output_type": "execute_result"
    }
   ],
   "source": [
    "df['km_driven'].min(), df['km_driven'].max()"
   ]
  },
  {
   "cell_type": "code",
   "execution_count": 45,
   "id": "0a83253b",
   "metadata": {},
   "outputs": [
    {
     "data": {
      "image/png": "[encoded data removed]",
      "text/plain": [
       "<Figure size 1200x400 with 1 Axes>"
      ]
     },
     "metadata": {},
     "output_type": "display_data"
    }
   ],
   "source": [
    "plt.figure(figsize=(12,4))\n",
    "sns.lineplot(data=df, x='year', y='km_driven')\n",
    "plt.xticks(np.arange(1992,2022))\n",
    "plt.xticks(rotation = 90)\n",
    "plt.grid(axis='x')\n",
    "plt.show()"
   ]
  },
  {
   "cell_type": "code",
   "execution_count": 56,
   "id": "3df37991",
   "metadata": {},
   "outputs": [
    {
     "data": {
      "image/png": "[encoded data removed]",
      "text/plain": [
       "<Figure size 1200x400 with 1 Axes>"
      ]
     },
     "metadata": {},
     "output_type": "display_data"
    }
   ],
   "source": [
    "plt.figure(figsize=(12,4))\n",
    "sns.barplot(data=df, x='make', y='age')\n",
    "plt.xticks(rotation = 90)\n",
    "plt.savefig('cars_age.png')\n",
    "plt.show()"
   ]
  },
  {
   "cell_type": "code",
   "execution_count": 74,
   "id": "e7df5c5d",
   "metadata": {},
   "outputs": [
    {
     "data": {
      "text/plain": [
       "make\n",
       "AMBASSADOR           5.81000\n",
       "AUDI              5565.53750\n",
       "BENTLEY             83.61000\n",
       "BMW               8379.57500\n",
       "CHEVROLET         1105.79000\n",
       "DAEWOO               1.56000\n",
       "DATSUN             544.88000\n",
       "DC                  23.85000\n",
       "FERRARI             20.90250\n",
       "FIAT               356.26585\n",
       "FORCE               27.60000\n",
       "FORD              5272.43250\n",
       "HONDA            10638.24500\n",
       "HYUNDAI          19444.31500\n",
       "ISUZU              168.45250\n",
       "JAGUAR            1615.00000\n",
       "JEEP               666.73750\n",
       "KIA                519.14000\n",
       "LAMBORGHINI         20.90250\n",
       "LAND              1048.56750\n",
       "LEXUS              209.02500\n",
       "MAHINDRA          9334.47750\n",
       "MARUTI           26468.67625\n",
       "MASERATI            41.80500\n",
       "MERCEDES-AMG        20.90250\n",
       "MERCEDES-BENZ     8279.66750\n",
       "MG                 333.06000\n",
       "MINI               426.17750\n",
       "MITSUBISHI         336.61000\n",
       "NISSAN            1332.83250\n",
       "OPEL                 1.50000\n",
       "OPELCORSA            4.55000\n",
       "PORSCHE            521.66000\n",
       "PREMIER              5.10000\n",
       "RENAULT           2929.83000\n",
       "ROLLS-ROYCE         20.90250\n",
       "SKODA             3030.84500\n",
       "TATA              4254.13954\n",
       "TOYOTA           12523.45500\n",
       "VOLKSWAGEN        4216.17250\n",
       "VOLVO              724.21750\n",
       "Name: selling_price, dtype: float64"
      ]
     },
     "execution_count": 74,
     "metadata": {},
     "output_type": "execute_result"
    }
   ],
   "source": [
    "df.groupby(by='make')['selling_price'].sum()"
   ]
  },
  {
   "cell_type": "code",
   "execution_count": 77,
   "id": "e17db1e3",
   "metadata": {},
   "outputs": [
    {
     "data": {
      "text/html": [
       "<div>\n",
       "<style scoped>\n",
       "    .dataframe tbody tr th:only-of-type {\n",
       "        vertical-align: middle;\n",
       "    }\n",
       "\n",
       "    .dataframe tbody tr th {\n",
       "        vertical-align: top;\n",
       "    }\n",
       "\n",
       "    .dataframe thead th {\n",
       "        text-align: right;\n",
       "    }\n",
       "</style>\n",
       "<table border=\"1\" class=\"dataframe\">\n",
       "  <thead>\n",
       "    <tr style=\"text-align: right;\">\n",
       "      <th></th>\n",
       "      <th>selling_price</th>\n",
       "      <th>year</th>\n",
       "      <th>km_driven</th>\n",
       "      <th>mileage</th>\n",
       "      <th>engine</th>\n",
       "      <th>max_power</th>\n",
       "      <th>age</th>\n",
       "      <th>make</th>\n",
       "      <th>model</th>\n",
       "      <th>Individual</th>\n",
       "      <th>Trustmark Dealer</th>\n",
       "      <th>Diesel</th>\n",
       "      <th>Electric</th>\n",
       "      <th>LPG</th>\n",
       "      <th>Petrol</th>\n",
       "      <th>Manual</th>\n",
       "      <th>5Years</th>\n",
       "      <th>5_MoreYears</th>\n",
       "    </tr>\n",
       "  </thead>\n",
       "  <tbody>\n",
       "    <tr>\n",
       "      <th>52</th>\n",
       "      <td>2.25</td>\n",
       "      <td>2010.0</td>\n",
       "      <td>86000</td>\n",
       "      <td>12.2</td>\n",
       "      <td>1817.0</td>\n",
       "      <td>75.0</td>\n",
       "      <td>13.0</td>\n",
       "      <td>AMBASSADOR</td>\n",
       "      <td>AVIGO 1800 ISZ MPFI AC</td>\n",
       "      <td>0</td>\n",
       "      <td>0</td>\n",
       "      <td>0</td>\n",
       "      <td>0</td>\n",
       "      <td>0</td>\n",
       "      <td>1</td>\n",
       "      <td>1</td>\n",
       "      <td>1</td>\n",
       "      <td>0</td>\n",
       "    </tr>\n",
       "    <tr>\n",
       "      <th>285</th>\n",
       "      <td>1.16</td>\n",
       "      <td>2005.0</td>\n",
       "      <td>120000</td>\n",
       "      <td>13.2</td>\n",
       "      <td>1995.0</td>\n",
       "      <td>56.0</td>\n",
       "      <td>18.0</td>\n",
       "      <td>AMBASSADOR</td>\n",
       "      <td>AVIGO 2000 DSZ</td>\n",
       "      <td>1</td>\n",
       "      <td>0</td>\n",
       "      <td>1</td>\n",
       "      <td>0</td>\n",
       "      <td>0</td>\n",
       "      <td>0</td>\n",
       "      <td>1</td>\n",
       "      <td>1</td>\n",
       "      <td>0</td>\n",
       "    </tr>\n",
       "    <tr>\n",
       "      <th>2955</th>\n",
       "      <td>0.90</td>\n",
       "      <td>2001.0</td>\n",
       "      <td>10000</td>\n",
       "      <td>12.8</td>\n",
       "      <td>1817.0</td>\n",
       "      <td>75.0</td>\n",
       "      <td>22.0</td>\n",
       "      <td>AMBASSADOR</td>\n",
       "      <td>CLASSIC 1800 ISZ MPFI AC PS</td>\n",
       "      <td>1</td>\n",
       "      <td>0</td>\n",
       "      <td>0</td>\n",
       "      <td>0</td>\n",
       "      <td>0</td>\n",
       "      <td>1</td>\n",
       "      <td>1</td>\n",
       "      <td>1</td>\n",
       "      <td>0</td>\n",
       "    </tr>\n",
       "    <tr>\n",
       "      <th>9044</th>\n",
       "      <td>1.50</td>\n",
       "      <td>2012.0</td>\n",
       "      <td>100000</td>\n",
       "      <td>12.8</td>\n",
       "      <td>1995.0</td>\n",
       "      <td>52.0</td>\n",
       "      <td>11.0</td>\n",
       "      <td>AMBASSADOR</td>\n",
       "      <td>CLASSIC 2000 DSZ</td>\n",
       "      <td>1</td>\n",
       "      <td>0</td>\n",
       "      <td>1</td>\n",
       "      <td>0</td>\n",
       "      <td>0</td>\n",
       "      <td>0</td>\n",
       "      <td>1</td>\n",
       "      <td>1</td>\n",
       "      <td>0</td>\n",
       "    </tr>\n",
       "  </tbody>\n",
       "</table>\n",
       "</div>"
      ],
      "text/plain": [
       "      selling_price    year  km_driven  mileage  engine  max_power   age  \\\n",
       "52             2.25  2010.0      86000     12.2  1817.0       75.0  13.0   \n",
       "285            1.16  2005.0     120000     13.2  1995.0       56.0  18.0   \n",
       "2955           0.90  2001.0      10000     12.8  1817.0       75.0  22.0   \n",
       "9044           1.50  2012.0     100000     12.8  1995.0       52.0  11.0   \n",
       "\n",
       "            make                        model  Individual  Trustmark Dealer  \\\n",
       "52    AMBASSADOR       AVIGO 1800 ISZ MPFI AC           0                 0   \n",
       "285   AMBASSADOR               AVIGO 2000 DSZ           1                 0   \n",
       "2955  AMBASSADOR  CLASSIC 1800 ISZ MPFI AC PS           1                 0   \n",
       "9044  AMBASSADOR             CLASSIC 2000 DSZ           1                 0   \n",
       "\n",
       "      Diesel  Electric  LPG  Petrol  Manual  5Years  5_MoreYears  \n",
       "52         0         0    0       1       1       1            0  \n",
       "285        1         0    0       0       1       1            0  \n",
       "2955       0         0    0       1       1       1            0  \n",
       "9044       1         0    0       0       1       1            0  "
      ]
     },
     "execution_count": 77,
     "metadata": {},
     "output_type": "execute_result"
    }
   ],
   "source": [
    "ambassdor = df[df['make'] == 'AMBASSADOR']\n",
    "ambassdor"
   ]
  },
  {
   "cell_type": "code",
   "execution_count": 80,
   "id": "c93fbb38",
   "metadata": {},
   "outputs": [
    {
     "data": {
      "text/plain": [
       "5.81"
      ]
     },
     "execution_count": 80,
     "metadata": {},
     "output_type": "execute_result"
    }
   ],
   "source": [
    "ambassdor['selling_price'].sum().round(2)"
   ]
  },
  {
   "cell_type": "code",
   "execution_count": 87,
   "id": "4fcc54b3",
   "metadata": {},
   "outputs": [
    {
     "data": {
      "image/png": "[encoded data removed]",
      "text/plain": [
       "<Figure size 640x480 with 1 Axes>"
      ]
     },
     "metadata": {},
     "output_type": "display_data"
    }
   ],
   "source": [
    "sns.boxplot(data=df, x='selling_price')\n",
    "plt.show()"
   ]
  },
  {
   "cell_type": "code",
   "execution_count": 92,
   "id": "6a4c6a9e",
   "metadata": {},
   "outputs": [
    {
     "data": {
      "text/html": [
       "<div>\n",
       "<style scoped>\n",
       "    .dataframe tbody tr th:only-of-type {\n",
       "        vertical-align: middle;\n",
       "    }\n",
       "\n",
       "    .dataframe tbody tr th {\n",
       "        vertical-align: top;\n",
       "    }\n",
       "\n",
       "    .dataframe thead th {\n",
       "        text-align: right;\n",
       "    }\n",
       "</style>\n",
       "<table border=\"1\" class=\"dataframe\">\n",
       "  <thead>\n",
       "    <tr style=\"text-align: right;\">\n",
       "      <th></th>\n",
       "      <th>selling_price</th>\n",
       "      <th>year</th>\n",
       "      <th>km_driven</th>\n",
       "      <th>mileage</th>\n",
       "      <th>engine</th>\n",
       "      <th>max_power</th>\n",
       "      <th>age</th>\n",
       "    </tr>\n",
       "  </thead>\n",
       "  <tbody>\n",
       "    <tr>\n",
       "      <th>0</th>\n",
       "      <td>1.20</td>\n",
       "      <td>2012.0</td>\n",
       "      <td>120000</td>\n",
       "      <td>19.70</td>\n",
       "      <td>796.0</td>\n",
       "      <td>46.30</td>\n",
       "      <td>11.0</td>\n",
       "    </tr>\n",
       "    <tr>\n",
       "      <th>1</th>\n",
       "      <td>5.50</td>\n",
       "      <td>2016.0</td>\n",
       "      <td>20000</td>\n",
       "      <td>18.90</td>\n",
       "      <td>1197.0</td>\n",
       "      <td>82.00</td>\n",
       "      <td>7.0</td>\n",
       "    </tr>\n",
       "    <tr>\n",
       "      <th>2</th>\n",
       "      <td>2.15</td>\n",
       "      <td>2010.0</td>\n",
       "      <td>60000</td>\n",
       "      <td>17.00</td>\n",
       "      <td>1197.0</td>\n",
       "      <td>80.00</td>\n",
       "      <td>13.0</td>\n",
       "    </tr>\n",
       "    <tr>\n",
       "      <th>3</th>\n",
       "      <td>2.26</td>\n",
       "      <td>2012.0</td>\n",
       "      <td>37000</td>\n",
       "      <td>20.92</td>\n",
       "      <td>998.0</td>\n",
       "      <td>67.10</td>\n",
       "      <td>11.0</td>\n",
       "    </tr>\n",
       "    <tr>\n",
       "      <th>4</th>\n",
       "      <td>5.70</td>\n",
       "      <td>2015.0</td>\n",
       "      <td>30000</td>\n",
       "      <td>22.77</td>\n",
       "      <td>1498.0</td>\n",
       "      <td>98.59</td>\n",
       "      <td>8.0</td>\n",
       "    </tr>\n",
       "    <tr>\n",
       "      <th>...</th>\n",
       "      <td>...</td>\n",
       "      <td>...</td>\n",
       "      <td>...</td>\n",
       "      <td>...</td>\n",
       "      <td>...</td>\n",
       "      <td>...</td>\n",
       "      <td>...</td>\n",
       "    </tr>\n",
       "    <tr>\n",
       "      <th>19815</th>\n",
       "      <td>6.50</td>\n",
       "      <td>2017.0</td>\n",
       "      <td>69480</td>\n",
       "      <td>23.59</td>\n",
       "      <td>1364.0</td>\n",
       "      <td>67.05</td>\n",
       "      <td>6.0</td>\n",
       "    </tr>\n",
       "    <tr>\n",
       "      <th>19816</th>\n",
       "      <td>9.25</td>\n",
       "      <td>2019.0</td>\n",
       "      <td>18000</td>\n",
       "      <td>17.50</td>\n",
       "      <td>1373.0</td>\n",
       "      <td>91.10</td>\n",
       "      <td>4.0</td>\n",
       "    </tr>\n",
       "    <tr>\n",
       "      <th>19817</th>\n",
       "      <td>4.25</td>\n",
       "      <td>2015.0</td>\n",
       "      <td>67000</td>\n",
       "      <td>21.14</td>\n",
       "      <td>1498.0</td>\n",
       "      <td>103.52</td>\n",
       "      <td>8.0</td>\n",
       "    </tr>\n",
       "    <tr>\n",
       "      <th>19818</th>\n",
       "      <td>12.25</td>\n",
       "      <td>2016.0</td>\n",
       "      <td>3800000</td>\n",
       "      <td>16.00</td>\n",
       "      <td>2179.0</td>\n",
       "      <td>140.00</td>\n",
       "      <td>7.0</td>\n",
       "    </tr>\n",
       "    <tr>\n",
       "      <th>19819</th>\n",
       "      <td>12.00</td>\n",
       "      <td>2019.0</td>\n",
       "      <td>13000</td>\n",
       "      <td>18.00</td>\n",
       "      <td>1497.0</td>\n",
       "      <td>117.60</td>\n",
       "      <td>4.0</td>\n",
       "    </tr>\n",
       "  </tbody>\n",
       "</table>\n",
       "<p>19820 rows × 7 columns</p>\n",
       "</div>"
      ],
      "text/plain": [
       "       selling_price    year  km_driven  mileage  engine  max_power   age\n",
       "0               1.20  2012.0     120000    19.70   796.0      46.30  11.0\n",
       "1               5.50  2016.0      20000    18.90  1197.0      82.00   7.0\n",
       "2               2.15  2010.0      60000    17.00  1197.0      80.00  13.0\n",
       "3               2.26  2012.0      37000    20.92   998.0      67.10  11.0\n",
       "4               5.70  2015.0      30000    22.77  1498.0      98.59   8.0\n",
       "...              ...     ...        ...      ...     ...        ...   ...\n",
       "19815           6.50  2017.0      69480    23.59  1364.0      67.05   6.0\n",
       "19816           9.25  2019.0      18000    17.50  1373.0      91.10   4.0\n",
       "19817           4.25  2015.0      67000    21.14  1498.0     103.52   8.0\n",
       "19818          12.25  2016.0    3800000    16.00  2179.0     140.00   7.0\n",
       "19819          12.00  2019.0      13000    18.00  1497.0     117.60   4.0\n",
       "\n",
       "[19820 rows x 7 columns]"
      ]
     },
     "execution_count": 92,
     "metadata": {},
     "output_type": "execute_result"
    }
   ],
   "source": [
    "df_num =  df.iloc[:, :7]\n",
    "df_num"
   ]
  },
  {
   "cell_type": "code",
   "execution_count": 96,
   "id": "b49daf60",
   "metadata": {},
   "outputs": [
    {
     "data": {
      "image/png": "[encoded data removed]",
      "text/plain": [
       "<Figure size 2500x800 with 1 Axes>"
      ]
     },
     "metadata": {},
     "output_type": "display_data"
    }
   ],
   "source": [
    "df_num.boxplot(rot=25, figsize=(25,8))\n",
    "plt.show()"
   ]
  },
  {
   "cell_type": "code",
   "execution_count": 97,
   "id": "c4827147",
   "metadata": {},
   "outputs": [
    {
     "data": {
      "text/html": [
       "<div>\n",
       "<style scoped>\n",
       "    .dataframe tbody tr th:only-of-type {\n",
       "        vertical-align: middle;\n",
       "    }\n",
       "\n",
       "    .dataframe tbody tr th {\n",
       "        vertical-align: top;\n",
       "    }\n",
       "\n",
       "    .dataframe thead th {\n",
       "        text-align: right;\n",
       "    }\n",
       "</style>\n",
       "<table border=\"1\" class=\"dataframe\">\n",
       "  <thead>\n",
       "    <tr style=\"text-align: right;\">\n",
       "      <th></th>\n",
       "      <th>selling_price</th>\n",
       "      <th>year</th>\n",
       "      <th>km_driven</th>\n",
       "      <th>mileage</th>\n",
       "      <th>engine</th>\n",
       "      <th>max_power</th>\n",
       "      <th>age</th>\n",
       "      <th>make</th>\n",
       "      <th>model</th>\n",
       "      <th>Individual</th>\n",
       "      <th>Trustmark Dealer</th>\n",
       "      <th>Diesel</th>\n",
       "      <th>Electric</th>\n",
       "      <th>LPG</th>\n",
       "      <th>Petrol</th>\n",
       "      <th>Manual</th>\n",
       "      <th>5Years</th>\n",
       "      <th>5_MoreYears</th>\n",
       "    </tr>\n",
       "  </thead>\n",
       "  <tbody>\n",
       "    <tr>\n",
       "      <th>0</th>\n",
       "      <td>1.20</td>\n",
       "      <td>2012.0</td>\n",
       "      <td>120000</td>\n",
       "      <td>19.70</td>\n",
       "      <td>796.0</td>\n",
       "      <td>46.30</td>\n",
       "      <td>11.0</td>\n",
       "      <td>MARUTI</td>\n",
       "      <td>ALTO STD</td>\n",
       "      <td>1</td>\n",
       "      <td>0</td>\n",
       "      <td>0</td>\n",
       "      <td>0</td>\n",
       "      <td>0</td>\n",
       "      <td>1</td>\n",
       "      <td>1</td>\n",
       "      <td>1</td>\n",
       "      <td>0</td>\n",
       "    </tr>\n",
       "    <tr>\n",
       "      <th>1</th>\n",
       "      <td>5.50</td>\n",
       "      <td>2016.0</td>\n",
       "      <td>20000</td>\n",
       "      <td>18.90</td>\n",
       "      <td>1197.0</td>\n",
       "      <td>82.00</td>\n",
       "      <td>7.0</td>\n",
       "      <td>HYUNDAI</td>\n",
       "      <td>GRAND I10 ASTA</td>\n",
       "      <td>1</td>\n",
       "      <td>0</td>\n",
       "      <td>0</td>\n",
       "      <td>0</td>\n",
       "      <td>0</td>\n",
       "      <td>1</td>\n",
       "      <td>1</td>\n",
       "      <td>1</td>\n",
       "      <td>0</td>\n",
       "    </tr>\n",
       "    <tr>\n",
       "      <th>2</th>\n",
       "      <td>2.15</td>\n",
       "      <td>2010.0</td>\n",
       "      <td>60000</td>\n",
       "      <td>17.00</td>\n",
       "      <td>1197.0</td>\n",
       "      <td>80.00</td>\n",
       "      <td>13.0</td>\n",
       "      <td>HYUNDAI</td>\n",
       "      <td>I20 ASTA</td>\n",
       "      <td>1</td>\n",
       "      <td>0</td>\n",
       "      <td>0</td>\n",
       "      <td>0</td>\n",
       "      <td>0</td>\n",
       "      <td>1</td>\n",
       "      <td>1</td>\n",
       "      <td>1</td>\n",
       "      <td>0</td>\n",
       "    </tr>\n",
       "    <tr>\n",
       "      <th>3</th>\n",
       "      <td>2.26</td>\n",
       "      <td>2012.0</td>\n",
       "      <td>37000</td>\n",
       "      <td>20.92</td>\n",
       "      <td>998.0</td>\n",
       "      <td>67.10</td>\n",
       "      <td>11.0</td>\n",
       "      <td>MARUTI</td>\n",
       "      <td>ALTO K10 2010-2014 VXI</td>\n",
       "      <td>1</td>\n",
       "      <td>0</td>\n",
       "      <td>0</td>\n",
       "      <td>0</td>\n",
       "      <td>0</td>\n",
       "      <td>1</td>\n",
       "      <td>1</td>\n",
       "      <td>1</td>\n",
       "      <td>0</td>\n",
       "    </tr>\n",
       "    <tr>\n",
       "      <th>4</th>\n",
       "      <td>5.70</td>\n",
       "      <td>2015.0</td>\n",
       "      <td>30000</td>\n",
       "      <td>22.77</td>\n",
       "      <td>1498.0</td>\n",
       "      <td>98.59</td>\n",
       "      <td>8.0</td>\n",
       "      <td>FORD</td>\n",
       "      <td>ECOSPORT 2015-2021 1.5 TDCI TITANIUM BSIV</td>\n",
       "      <td>0</td>\n",
       "      <td>0</td>\n",
       "      <td>1</td>\n",
       "      <td>0</td>\n",
       "      <td>0</td>\n",
       "      <td>0</td>\n",
       "      <td>1</td>\n",
       "      <td>1</td>\n",
       "      <td>0</td>\n",
       "    </tr>\n",
       "  </tbody>\n",
       "</table>\n",
       "</div>"
      ],
      "text/plain": [
       "   selling_price    year  km_driven  mileage  engine  max_power   age  \\\n",
       "0           1.20  2012.0     120000    19.70   796.0      46.30  11.0   \n",
       "1           5.50  2016.0      20000    18.90  1197.0      82.00   7.0   \n",
       "2           2.15  2010.0      60000    17.00  1197.0      80.00  13.0   \n",
       "3           2.26  2012.0      37000    20.92   998.0      67.10  11.0   \n",
       "4           5.70  2015.0      30000    22.77  1498.0      98.59   8.0   \n",
       "\n",
       "      make                                      model  Individual  \\\n",
       "0   MARUTI                                   ALTO STD           1   \n",
       "1  HYUNDAI                             GRAND I10 ASTA           1   \n",
       "2  HYUNDAI                                   I20 ASTA           1   \n",
       "3   MARUTI                     ALTO K10 2010-2014 VXI           1   \n",
       "4     FORD  ECOSPORT 2015-2021 1.5 TDCI TITANIUM BSIV           0   \n",
       "\n",
       "   Trustmark Dealer  Diesel  Electric  LPG  Petrol  Manual  5Years  \\\n",
       "0                 0       0         0    0       1       1       1   \n",
       "1                 0       0         0    0       1       1       1   \n",
       "2                 0       0         0    0       1       1       1   \n",
       "3                 0       0         0    0       1       1       1   \n",
       "4                 0       1         0    0       0       1       1   \n",
       "\n",
       "   5_MoreYears  \n",
       "0            0  \n",
       "1            0  \n",
       "2            0  \n",
       "3            0  \n",
       "4            0  "
      ]
     },
     "execution_count": 97,
     "metadata": {},
     "output_type": "execute_result"
    }
   ],
   "source": [
    "df[:5]"
   ]
  },
  {
   "cell_type": "code",
   "execution_count": 103,
   "id": "37f5c5dd",
   "metadata": {},
   "outputs": [
    {
     "data": {
      "text/html": [
       "<div>\n",
       "<style scoped>\n",
       "    .dataframe tbody tr th:only-of-type {\n",
       "        vertical-align: middle;\n",
       "    }\n",
       "\n",
       "    .dataframe tbody tr th {\n",
       "        vertical-align: top;\n",
       "    }\n",
       "\n",
       "    .dataframe thead th {\n",
       "        text-align: right;\n",
       "    }\n",
       "</style>\n",
       "<table border=\"1\" class=\"dataframe\">\n",
       "  <thead>\n",
       "    <tr style=\"text-align: right;\">\n",
       "      <th></th>\n",
       "      <th>selling_price</th>\n",
       "      <th>year</th>\n",
       "      <th>km_driven</th>\n",
       "      <th>mileage</th>\n",
       "      <th>engine</th>\n",
       "      <th>max_power</th>\n",
       "      <th>age</th>\n",
       "      <th>make</th>\n",
       "      <th>model</th>\n",
       "      <th>Individual</th>\n",
       "      <th>Trustmark Dealer</th>\n",
       "      <th>Diesel</th>\n",
       "      <th>Electric</th>\n",
       "      <th>LPG</th>\n",
       "      <th>Petrol</th>\n",
       "      <th>Manual</th>\n",
       "      <th>5Years</th>\n",
       "      <th>5_MoreYears</th>\n",
       "    </tr>\n",
       "  </thead>\n",
       "  <tbody>\n",
       "    <tr>\n",
       "      <th>0</th>\n",
       "      <td>1.2</td>\n",
       "      <td>2012.0</td>\n",
       "      <td>120000</td>\n",
       "      <td>19.7</td>\n",
       "      <td>796.0</td>\n",
       "      <td>46.3</td>\n",
       "      <td>11.0</td>\n",
       "      <td>4.684721</td>\n",
       "      <td>ALTO STD</td>\n",
       "      <td>1</td>\n",
       "      <td>0</td>\n",
       "      <td>0</td>\n",
       "      <td>0</td>\n",
       "      <td>0</td>\n",
       "      <td>1</td>\n",
       "      <td>1</td>\n",
       "      <td>1</td>\n",
       "      <td>0</td>\n",
       "    </tr>\n",
       "    <tr>\n",
       "      <th>1</th>\n",
       "      <td>5.5</td>\n",
       "      <td>2016.0</td>\n",
       "      <td>20000</td>\n",
       "      <td>18.9</td>\n",
       "      <td>1197.0</td>\n",
       "      <td>82.0</td>\n",
       "      <td>7.0</td>\n",
       "      <td>5.458819</td>\n",
       "      <td>GRAND I10 ASTA</td>\n",
       "      <td>1</td>\n",
       "      <td>0</td>\n",
       "      <td>0</td>\n",
       "      <td>0</td>\n",
       "      <td>0</td>\n",
       "      <td>1</td>\n",
       "      <td>1</td>\n",
       "      <td>1</td>\n",
       "      <td>0</td>\n",
       "    </tr>\n",
       "  </tbody>\n",
       "</table>\n",
       "</div>"
      ],
      "text/plain": [
       "   selling_price    year  km_driven  mileage  engine  max_power   age  \\\n",
       "0            1.2  2012.0     120000     19.7   796.0       46.3  11.0   \n",
       "1            5.5  2016.0      20000     18.9  1197.0       82.0   7.0   \n",
       "\n",
       "       make           model  Individual  Trustmark Dealer  Diesel  Electric  \\\n",
       "0  4.684721        ALTO STD           1                 0       0         0   \n",
       "1  5.458819  GRAND I10 ASTA           1                 0       0         0   \n",
       "\n",
       "   LPG  Petrol  Manual  5Years  5_MoreYears  \n",
       "0    0       1       1       1            0  \n",
       "1    0       1       1       1            0  "
      ]
     },
     "execution_count": 103,
     "metadata": {},
     "output_type": "execute_result"
    }
   ],
   "source": [
    "df['make'] = df.groupby(by='make')['selling_price'].transform(\"mean\")\n",
    "df[:2]"
   ]
  },
  {
   "cell_type": "code",
   "execution_count": 111,
   "id": "28597dcd",
   "metadata": {},
   "outputs": [
    {
     "data": {
      "text/html": [
       "<div>\n",
       "<style scoped>\n",
       "    .dataframe tbody tr th:only-of-type {\n",
       "        vertical-align: middle;\n",
       "    }\n",
       "\n",
       "    .dataframe tbody tr th {\n",
       "        vertical-align: top;\n",
       "    }\n",
       "\n",
       "    .dataframe thead th {\n",
       "        text-align: right;\n",
       "    }\n",
       "</style>\n",
       "<table border=\"1\" class=\"dataframe\">\n",
       "  <thead>\n",
       "    <tr style=\"text-align: right;\">\n",
       "      <th></th>\n",
       "      <th>selling_price</th>\n",
       "      <th>year</th>\n",
       "      <th>km_driven</th>\n",
       "      <th>mileage</th>\n",
       "      <th>engine</th>\n",
       "      <th>max_power</th>\n",
       "      <th>age</th>\n",
       "      <th>make</th>\n",
       "      <th>model</th>\n",
       "      <th>Individual</th>\n",
       "      <th>Trustmark Dealer</th>\n",
       "      <th>Diesel</th>\n",
       "      <th>Electric</th>\n",
       "      <th>LPG</th>\n",
       "      <th>Petrol</th>\n",
       "      <th>Manual</th>\n",
       "      <th>5Years</th>\n",
       "      <th>5_MoreYears</th>\n",
       "    </tr>\n",
       "  </thead>\n",
       "  <tbody>\n",
       "    <tr>\n",
       "      <th>0</th>\n",
       "      <td>1.20</td>\n",
       "      <td>2012.0</td>\n",
       "      <td>120000</td>\n",
       "      <td>19.7</td>\n",
       "      <td>796.0</td>\n",
       "      <td>46.3</td>\n",
       "      <td>11.0</td>\n",
       "      <td>4.684721</td>\n",
       "      <td>1.18000</td>\n",
       "      <td>1</td>\n",
       "      <td>0</td>\n",
       "      <td>0</td>\n",
       "      <td>0</td>\n",
       "      <td>0</td>\n",
       "      <td>1</td>\n",
       "      <td>1</td>\n",
       "      <td>1</td>\n",
       "      <td>0</td>\n",
       "    </tr>\n",
       "    <tr>\n",
       "      <th>1</th>\n",
       "      <td>5.50</td>\n",
       "      <td>2016.0</td>\n",
       "      <td>20000</td>\n",
       "      <td>18.9</td>\n",
       "      <td>1197.0</td>\n",
       "      <td>82.0</td>\n",
       "      <td>7.0</td>\n",
       "      <td>5.458819</td>\n",
       "      <td>4.81875</td>\n",
       "      <td>1</td>\n",
       "      <td>0</td>\n",
       "      <td>0</td>\n",
       "      <td>0</td>\n",
       "      <td>0</td>\n",
       "      <td>1</td>\n",
       "      <td>1</td>\n",
       "      <td>1</td>\n",
       "      <td>0</td>\n",
       "    </tr>\n",
       "    <tr>\n",
       "      <th>2</th>\n",
       "      <td>2.15</td>\n",
       "      <td>2010.0</td>\n",
       "      <td>60000</td>\n",
       "      <td>17.0</td>\n",
       "      <td>1197.0</td>\n",
       "      <td>80.0</td>\n",
       "      <td>13.0</td>\n",
       "      <td>5.458819</td>\n",
       "      <td>3.39400</td>\n",
       "      <td>1</td>\n",
       "      <td>0</td>\n",
       "      <td>0</td>\n",
       "      <td>0</td>\n",
       "      <td>0</td>\n",
       "      <td>1</td>\n",
       "      <td>1</td>\n",
       "      <td>1</td>\n",
       "      <td>0</td>\n",
       "    </tr>\n",
       "  </tbody>\n",
       "</table>\n",
       "</div>"
      ],
      "text/plain": [
       "   selling_price    year  km_driven  mileage  engine  max_power   age  \\\n",
       "0           1.20  2012.0     120000     19.7   796.0       46.3  11.0   \n",
       "1           5.50  2016.0      20000     18.9  1197.0       82.0   7.0   \n",
       "2           2.15  2010.0      60000     17.0  1197.0       80.0  13.0   \n",
       "\n",
       "       make    model  Individual  Trustmark Dealer  Diesel  Electric  LPG  \\\n",
       "0  4.684721  1.18000           1                 0       0         0    0   \n",
       "1  5.458819  4.81875           1                 0       0         0    0   \n",
       "2  5.458819  3.39400           1                 0       0         0    0   \n",
       "\n",
       "   Petrol  Manual  5Years  5_MoreYears  \n",
       "0       1       1       1            0  \n",
       "1       1       1       1            0  \n",
       "2       1       1       1            0  "
      ]
     },
     "execution_count": 111,
     "metadata": {},
     "output_type": "execute_result"
    }
   ],
   "source": [
    "df['model'] = df.groupby(by='model')['selling_price'].transform('mean')\n",
    "df[:3]"
   ]
  },
  {
   "cell_type": "code",
   "execution_count": 113,
   "id": "93a661a9",
   "metadata": {},
   "outputs": [
    {
     "data": {
      "text/html": [
       "<div>\n",
       "<style scoped>\n",
       "    .dataframe tbody tr th:only-of-type {\n",
       "        vertical-align: middle;\n",
       "    }\n",
       "\n",
       "    .dataframe tbody tr th {\n",
       "        vertical-align: top;\n",
       "    }\n",
       "\n",
       "    .dataframe thead th {\n",
       "        text-align: right;\n",
       "    }\n",
       "</style>\n",
       "<table border=\"1\" class=\"dataframe\">\n",
       "  <thead>\n",
       "    <tr style=\"text-align: right;\">\n",
       "      <th></th>\n",
       "      <th>selling_price</th>\n",
       "      <th>year</th>\n",
       "      <th>km_driven</th>\n",
       "      <th>mileage</th>\n",
       "      <th>engine</th>\n",
       "      <th>max_power</th>\n",
       "      <th>age</th>\n",
       "      <th>make</th>\n",
       "      <th>model</th>\n",
       "      <th>Individual</th>\n",
       "      <th>Trustmark Dealer</th>\n",
       "      <th>Diesel</th>\n",
       "      <th>Electric</th>\n",
       "      <th>LPG</th>\n",
       "      <th>Petrol</th>\n",
       "      <th>Manual</th>\n",
       "      <th>5Years</th>\n",
       "      <th>5_MoreYears</th>\n",
       "    </tr>\n",
       "  </thead>\n",
       "  <tbody>\n",
       "    <tr>\n",
       "      <th>0</th>\n",
       "      <td>1.20</td>\n",
       "      <td>2012.0</td>\n",
       "      <td>120000</td>\n",
       "      <td>19.70</td>\n",
       "      <td>796.0</td>\n",
       "      <td>46.30</td>\n",
       "      <td>11.0</td>\n",
       "      <td>4.684721</td>\n",
       "      <td>1.180000</td>\n",
       "      <td>1</td>\n",
       "      <td>0</td>\n",
       "      <td>0</td>\n",
       "      <td>0</td>\n",
       "      <td>0</td>\n",
       "      <td>1</td>\n",
       "      <td>1</td>\n",
       "      <td>1</td>\n",
       "      <td>0</td>\n",
       "    </tr>\n",
       "    <tr>\n",
       "      <th>1</th>\n",
       "      <td>5.50</td>\n",
       "      <td>2016.0</td>\n",
       "      <td>20000</td>\n",
       "      <td>18.90</td>\n",
       "      <td>1197.0</td>\n",
       "      <td>82.00</td>\n",
       "      <td>7.0</td>\n",
       "      <td>5.458819</td>\n",
       "      <td>4.818750</td>\n",
       "      <td>1</td>\n",
       "      <td>0</td>\n",
       "      <td>0</td>\n",
       "      <td>0</td>\n",
       "      <td>0</td>\n",
       "      <td>1</td>\n",
       "      <td>1</td>\n",
       "      <td>1</td>\n",
       "      <td>0</td>\n",
       "    </tr>\n",
       "    <tr>\n",
       "      <th>2</th>\n",
       "      <td>2.15</td>\n",
       "      <td>2010.0</td>\n",
       "      <td>60000</td>\n",
       "      <td>17.00</td>\n",
       "      <td>1197.0</td>\n",
       "      <td>80.00</td>\n",
       "      <td>13.0</td>\n",
       "      <td>5.458819</td>\n",
       "      <td>3.394000</td>\n",
       "      <td>1</td>\n",
       "      <td>0</td>\n",
       "      <td>0</td>\n",
       "      <td>0</td>\n",
       "      <td>0</td>\n",
       "      <td>1</td>\n",
       "      <td>1</td>\n",
       "      <td>1</td>\n",
       "      <td>0</td>\n",
       "    </tr>\n",
       "    <tr>\n",
       "      <th>3</th>\n",
       "      <td>2.26</td>\n",
       "      <td>2012.0</td>\n",
       "      <td>37000</td>\n",
       "      <td>20.92</td>\n",
       "      <td>998.0</td>\n",
       "      <td>67.10</td>\n",
       "      <td>11.0</td>\n",
       "      <td>4.684721</td>\n",
       "      <td>2.242676</td>\n",
       "      <td>1</td>\n",
       "      <td>0</td>\n",
       "      <td>0</td>\n",
       "      <td>0</td>\n",
       "      <td>0</td>\n",
       "      <td>1</td>\n",
       "      <td>1</td>\n",
       "      <td>1</td>\n",
       "      <td>0</td>\n",
       "    </tr>\n",
       "    <tr>\n",
       "      <th>4</th>\n",
       "      <td>5.70</td>\n",
       "      <td>2015.0</td>\n",
       "      <td>30000</td>\n",
       "      <td>22.77</td>\n",
       "      <td>1498.0</td>\n",
       "      <td>98.59</td>\n",
       "      <td>8.0</td>\n",
       "      <td>5.858258</td>\n",
       "      <td>6.777576</td>\n",
       "      <td>0</td>\n",
       "      <td>0</td>\n",
       "      <td>1</td>\n",
       "      <td>0</td>\n",
       "      <td>0</td>\n",
       "      <td>0</td>\n",
       "      <td>1</td>\n",
       "      <td>1</td>\n",
       "      <td>0</td>\n",
       "    </tr>\n",
       "  </tbody>\n",
       "</table>\n",
       "</div>"
      ],
      "text/plain": [
       "   selling_price    year  km_driven  mileage  engine  max_power   age  \\\n",
       "0           1.20  2012.0     120000    19.70   796.0      46.30  11.0   \n",
       "1           5.50  2016.0      20000    18.90  1197.0      82.00   7.0   \n",
       "2           2.15  2010.0      60000    17.00  1197.0      80.00  13.0   \n",
       "3           2.26  2012.0      37000    20.92   998.0      67.10  11.0   \n",
       "4           5.70  2015.0      30000    22.77  1498.0      98.59   8.0   \n",
       "\n",
       "       make     model  Individual  Trustmark Dealer  Diesel  Electric  LPG  \\\n",
       "0  4.684721  1.180000           1                 0       0         0    0   \n",
       "1  5.458819  4.818750           1                 0       0         0    0   \n",
       "2  5.458819  3.394000           1                 0       0         0    0   \n",
       "3  4.684721  2.242676           1                 0       0         0    0   \n",
       "4  5.858258  6.777576           0                 0       1         0    0   \n",
       "\n",
       "   Petrol  Manual  5Years  5_MoreYears  \n",
       "0       1       1       1            0  \n",
       "1       1       1       1            0  \n",
       "2       1       1       1            0  \n",
       "3       1       1       1            0  \n",
       "4       0       1       1            0  "
      ]
     },
     "execution_count": 113,
     "metadata": {},
     "output_type": "execute_result"
    }
   ],
   "source": [
    "df.head()"
   ]
  },
  {
   "cell_type": "code",
   "execution_count": 116,
   "id": "4b0b3996",
   "metadata": {},
   "outputs": [
    {
     "data": {
      "text/plain": [
       "0    1.20\n",
       "1    5.50\n",
       "2    2.15\n",
       "3    2.26\n",
       "4    5.70\n",
       "Name: selling_price, dtype: float64"
      ]
     },
     "execution_count": 116,
     "metadata": {},
     "output_type": "execute_result"
    }
   ],
   "source": [
    "y = df['selling_price']\n",
    "y.head()"
   ]
  },
  {
   "cell_type": "code",
   "execution_count": 123,
   "id": "07be6b37",
   "metadata": {},
   "outputs": [
    {
     "data": {
      "text/html": [
       "<div>\n",
       "<style scoped>\n",
       "    .dataframe tbody tr th:only-of-type {\n",
       "        vertical-align: middle;\n",
       "    }\n",
       "\n",
       "    .dataframe tbody tr th {\n",
       "        vertical-align: top;\n",
       "    }\n",
       "\n",
       "    .dataframe thead th {\n",
       "        text-align: right;\n",
       "    }\n",
       "</style>\n",
       "<table border=\"1\" class=\"dataframe\">\n",
       "  <thead>\n",
       "    <tr style=\"text-align: right;\">\n",
       "      <th></th>\n",
       "      <th>year</th>\n",
       "      <th>km_driven</th>\n",
       "      <th>mileage</th>\n",
       "      <th>engine</th>\n",
       "      <th>max_power</th>\n",
       "      <th>age</th>\n",
       "      <th>make</th>\n",
       "      <th>model</th>\n",
       "      <th>Individual</th>\n",
       "      <th>Trustmark Dealer</th>\n",
       "      <th>Diesel</th>\n",
       "      <th>Electric</th>\n",
       "      <th>LPG</th>\n",
       "      <th>Petrol</th>\n",
       "      <th>Manual</th>\n",
       "      <th>5Years</th>\n",
       "      <th>5_MoreYears</th>\n",
       "    </tr>\n",
       "  </thead>\n",
       "  <tbody>\n",
       "    <tr>\n",
       "      <th>0</th>\n",
       "      <td>2012.0</td>\n",
       "      <td>120000</td>\n",
       "      <td>19.70</td>\n",
       "      <td>796.0</td>\n",
       "      <td>46.30</td>\n",
       "      <td>11.0</td>\n",
       "      <td>4.684721</td>\n",
       "      <td>1.180000</td>\n",
       "      <td>1</td>\n",
       "      <td>0</td>\n",
       "      <td>0</td>\n",
       "      <td>0</td>\n",
       "      <td>0</td>\n",
       "      <td>1</td>\n",
       "      <td>1</td>\n",
       "      <td>1</td>\n",
       "      <td>0</td>\n",
       "    </tr>\n",
       "    <tr>\n",
       "      <th>1</th>\n",
       "      <td>2016.0</td>\n",
       "      <td>20000</td>\n",
       "      <td>18.90</td>\n",
       "      <td>1197.0</td>\n",
       "      <td>82.00</td>\n",
       "      <td>7.0</td>\n",
       "      <td>5.458819</td>\n",
       "      <td>4.818750</td>\n",
       "      <td>1</td>\n",
       "      <td>0</td>\n",
       "      <td>0</td>\n",
       "      <td>0</td>\n",
       "      <td>0</td>\n",
       "      <td>1</td>\n",
       "      <td>1</td>\n",
       "      <td>1</td>\n",
       "      <td>0</td>\n",
       "    </tr>\n",
       "    <tr>\n",
       "      <th>2</th>\n",
       "      <td>2010.0</td>\n",
       "      <td>60000</td>\n",
       "      <td>17.00</td>\n",
       "      <td>1197.0</td>\n",
       "      <td>80.00</td>\n",
       "      <td>13.0</td>\n",
       "      <td>5.458819</td>\n",
       "      <td>3.394000</td>\n",
       "      <td>1</td>\n",
       "      <td>0</td>\n",
       "      <td>0</td>\n",
       "      <td>0</td>\n",
       "      <td>0</td>\n",
       "      <td>1</td>\n",
       "      <td>1</td>\n",
       "      <td>1</td>\n",
       "      <td>0</td>\n",
       "    </tr>\n",
       "    <tr>\n",
       "      <th>3</th>\n",
       "      <td>2012.0</td>\n",
       "      <td>37000</td>\n",
       "      <td>20.92</td>\n",
       "      <td>998.0</td>\n",
       "      <td>67.10</td>\n",
       "      <td>11.0</td>\n",
       "      <td>4.684721</td>\n",
       "      <td>2.242676</td>\n",
       "      <td>1</td>\n",
       "      <td>0</td>\n",
       "      <td>0</td>\n",
       "      <td>0</td>\n",
       "      <td>0</td>\n",
       "      <td>1</td>\n",
       "      <td>1</td>\n",
       "      <td>1</td>\n",
       "      <td>0</td>\n",
       "    </tr>\n",
       "    <tr>\n",
       "      <th>4</th>\n",
       "      <td>2015.0</td>\n",
       "      <td>30000</td>\n",
       "      <td>22.77</td>\n",
       "      <td>1498.0</td>\n",
       "      <td>98.59</td>\n",
       "      <td>8.0</td>\n",
       "      <td>5.858258</td>\n",
       "      <td>6.777576</td>\n",
       "      <td>0</td>\n",
       "      <td>0</td>\n",
       "      <td>1</td>\n",
       "      <td>0</td>\n",
       "      <td>0</td>\n",
       "      <td>0</td>\n",
       "      <td>1</td>\n",
       "      <td>1</td>\n",
       "      <td>0</td>\n",
       "    </tr>\n",
       "  </tbody>\n",
       "</table>\n",
       "</div>"
      ],
      "text/plain": [
       "     year  km_driven  mileage  engine  max_power   age      make     model  \\\n",
       "0  2012.0     120000    19.70   796.0      46.30  11.0  4.684721  1.180000   \n",
       "1  2016.0      20000    18.90  1197.0      82.00   7.0  5.458819  4.818750   \n",
       "2  2010.0      60000    17.00  1197.0      80.00  13.0  5.458819  3.394000   \n",
       "3  2012.0      37000    20.92   998.0      67.10  11.0  4.684721  2.242676   \n",
       "4  2015.0      30000    22.77  1498.0      98.59   8.0  5.858258  6.777576   \n",
       "\n",
       "   Individual  Trustmark Dealer  Diesel  Electric  LPG  Petrol  Manual  \\\n",
       "0           1                 0       0         0    0       1       1   \n",
       "1           1                 0       0         0    0       1       1   \n",
       "2           1                 0       0         0    0       1       1   \n",
       "3           1                 0       0         0    0       1       1   \n",
       "4           0                 0       1         0    0       0       1   \n",
       "\n",
       "   5Years  5_MoreYears  \n",
       "0       1            0  \n",
       "1       1            0  \n",
       "2       1            0  \n",
       "3       1            0  \n",
       "4       1            0  "
      ]
     },
     "execution_count": 123,
     "metadata": {},
     "output_type": "execute_result"
    }
   ],
   "source": [
    "X = df.iloc[:, 1::]\n",
    "X.head()"
   ]
  },
  {
   "cell_type": "code",
   "execution_count": 124,
   "id": "4d4dbe73",
   "metadata": {},
   "outputs": [],
   "source": [
    "X_train, X_test, y_train, y_test = train_test_split(X, y, test_size=0.2, random_state=42)"
   ]
  },
  {
   "cell_type": "code",
   "execution_count": 127,
   "id": "541eb559",
   "metadata": {},
   "outputs": [
    {
     "data": {
      "text/plain": [
       "(15856, 17)"
      ]
     },
     "execution_count": 127,
     "metadata": {},
     "output_type": "execute_result"
    }
   ],
   "source": [
    "X_train.shape"
   ]
  },
  {
   "cell_type": "code",
   "execution_count": 128,
   "id": "034d08f2",
   "metadata": {},
   "outputs": [
    {
     "data": {
      "text/plain": [
       "(15856,)"
      ]
     },
     "execution_count": 128,
     "metadata": {},
     "output_type": "execute_result"
    }
   ],
   "source": [
    "y_train.shape"
   ]
  },
  {
   "cell_type": "code",
   "execution_count": 130,
   "id": "6697c5b3",
   "metadata": {},
   "outputs": [
    {
     "data": {
      "text/plain": [
       "(3964, 17)"
      ]
     },
     "execution_count": 130,
     "metadata": {},
     "output_type": "execute_result"
    }
   ],
   "source": [
    "X_test.shape"
   ]
  },
  {
   "cell_type": "code",
   "execution_count": 131,
   "id": "b8494717",
   "metadata": {},
   "outputs": [
    {
     "data": {
      "text/plain": [
       "(3964,)"
      ]
     },
     "execution_count": 131,
     "metadata": {},
     "output_type": "execute_result"
    }
   ],
   "source": [
    "y_test.shape"
   ]
  },
  {
   "cell_type": "code",
   "execution_count": 134,
   "id": "21d7342e",
   "metadata": {},
   "outputs": [
    {
     "data": {
      "text/html": [
       "<style>#sk-container-id-2 {color: black;background-color: white;}#sk-container-id-2 pre{padding: 0;}#sk-container-id-2 div.sk-toggleable {background-color: white;}#sk-container-id-2 label.sk-toggleable__label {cursor: pointer;display: block;width: 100%;margin-bottom: 0;padding: 0.3em;box-sizing: border-box;text-align: center;}#sk-container-id-2 label.sk-toggleable__label-arrow:before {content: \"▸\";float: left;margin-right: 0.25em;color: #696969;}#sk-container-id-2 label.sk-toggleable__label-arrow:hover:before {color: black;}#sk-container-id-2 div.sk-estimator:hover label.sk-toggleable__label-arrow:before {color: black;}#sk-container-id-2 div.sk-toggleable__content {max-height: 0;max-width: 0;overflow: hidden;text-align: left;background-color: #f0f8ff;}#sk-container-id-2 div.sk-toggleable__content pre {margin: 0.2em;color: black;border-radius: 0.25em;background-color: #f0f8ff;}#sk-container-id-2 input.sk-toggleable__control:checked~div.sk-toggleable__content {max-height: 200px;max-width: 100%;overflow: auto;}#sk-container-id-2 input.sk-toggleable__control:checked~label.sk-toggleable__label-arrow:before {content: \"▾\";}#sk-container-id-2 div.sk-estimator input.sk-toggleable__control:checked~label.sk-toggleable__label {background-color: #d4ebff;}#sk-container-id-2 div.sk-label input.sk-toggleable__control:checked~label.sk-toggleable__label {background-color: #d4ebff;}#sk-container-id-2 input.sk-hidden--visually {border: 0;clip: rect(1px 1px 1px 1px);clip: rect(1px, 1px, 1px, 1px);height: 1px;margin: -1px;overflow: hidden;padding: 0;position: absolute;width: 1px;}#sk-container-id-2 div.sk-estimator {font-family: monospace;background-color: #f0f8ff;border: 1px dotted black;border-radius: 0.25em;box-sizing: border-box;margin-bottom: 0.5em;}#sk-container-id-2 div.sk-estimator:hover {background-color: #d4ebff;}#sk-container-id-2 div.sk-parallel-item::after {content: \"\";width: 100%;border-bottom: 1px solid gray;flex-grow: 1;}#sk-container-id-2 div.sk-label:hover label.sk-toggleable__label {background-color: #d4ebff;}#sk-container-id-2 div.sk-serial::before {content: \"\";position: absolute;border-left: 1px solid gray;box-sizing: border-box;top: 0;bottom: 0;left: 50%;z-index: 0;}#sk-container-id-2 div.sk-serial {display: flex;flex-direction: column;align-items: center;background-color: white;padding-right: 0.2em;padding-left: 0.2em;position: relative;}#sk-container-id-2 div.sk-item {position: relative;z-index: 1;}#sk-container-id-2 div.sk-parallel {display: flex;align-items: stretch;justify-content: center;background-color: white;position: relative;}#sk-container-id-2 div.sk-item::before, #sk-container-id-2 div.sk-parallel-item::before {content: \"\";position: absolute;border-left: 1px solid gray;box-sizing: border-box;top: 0;bottom: 0;left: 50%;z-index: -1;}#sk-container-id-2 div.sk-parallel-item {display: flex;flex-direction: column;z-index: 1;position: relative;background-color: white;}#sk-container-id-2 div.sk-parallel-item:first-child::after {align-self: flex-end;width: 50%;}#sk-container-id-2 div.sk-parallel-item:last-child::after {align-self: flex-start;width: 50%;}#sk-container-id-2 div.sk-parallel-item:only-child::after {width: 0;}#sk-container-id-2 div.sk-dashed-wrapped {border: 1px dashed gray;margin: 0 0.4em 0.5em 0.4em;box-sizing: border-box;padding-bottom: 0.4em;background-color: white;}#sk-container-id-2 div.sk-label label {font-family: monospace;font-weight: bold;display: inline-block;line-height: 1.2em;}#sk-container-id-2 div.sk-label-container {text-align: center;}#sk-container-id-2 div.sk-container {/* jupyter's `normalize.less` sets `[hidden] { display: none; }` but bootstrap.min.css set `[hidden] { display: none !important; }` so we also need the `!important` here to be able to override the default hidden behavior on the sphinx rendered scikit-learn.org. See: https://github.com/scikit-learn/scikit-learn/issues/21755 */display: inline-block !important;position: relative;}#sk-container-id-2 div.sk-text-repr-fallback {display: none;}</style><div id=\"sk-container-id-2\" class=\"sk-top-container\"><div class=\"sk-text-repr-fallback\"><pre>MinMaxScaler()</pre><b>In a Jupyter environment, please rerun this cell to show the HTML representation or trust the notebook. <br />On GitHub, the HTML representation is unable to render, please try loading this page with nbviewer.org.</b></div><div class=\"sk-container\" hidden><div class=\"sk-item\"><div class=\"sk-estimator sk-toggleable\"><input class=\"sk-toggleable__control sk-hidden--visually\" id=\"sk-estimator-id-2\" type=\"checkbox\" checked><label for=\"sk-estimator-id-2\" class=\"sk-toggleable__label sk-toggleable__label-arrow\">MinMaxScaler</label><div class=\"sk-toggleable__content\"><pre>MinMaxScaler()</pre></div></div></div></div></div>"
      ],
      "text/plain": [
       "MinMaxScaler()"
      ]
     },
     "execution_count": 134,
     "metadata": {},
     "output_type": "execute_result"
    }
   ],
   "source": [
    "scaling = MinMaxScaler()\n",
    "scaling"
   ]
  },
  {
   "cell_type": "code",
   "execution_count": 138,
   "id": "a4fd33f3",
   "metadata": {},
   "outputs": [
    {
     "data": {
      "text/html": [
       "<div>\n",
       "<style scoped>\n",
       "    .dataframe tbody tr th:only-of-type {\n",
       "        vertical-align: middle;\n",
       "    }\n",
       "\n",
       "    .dataframe tbody tr th {\n",
       "        vertical-align: top;\n",
       "    }\n",
       "\n",
       "    .dataframe thead th {\n",
       "        text-align: right;\n",
       "    }\n",
       "</style>\n",
       "<table border=\"1\" class=\"dataframe\">\n",
       "  <thead>\n",
       "    <tr style=\"text-align: right;\">\n",
       "      <th></th>\n",
       "      <th>year</th>\n",
       "      <th>km_driven</th>\n",
       "      <th>mileage</th>\n",
       "      <th>engine</th>\n",
       "      <th>max_power</th>\n",
       "      <th>age</th>\n",
       "      <th>make</th>\n",
       "      <th>model</th>\n",
       "      <th>Individual</th>\n",
       "      <th>Trustmark Dealer</th>\n",
       "      <th>Diesel</th>\n",
       "      <th>Electric</th>\n",
       "      <th>LPG</th>\n",
       "      <th>Petrol</th>\n",
       "      <th>Manual</th>\n",
       "      <th>5Years</th>\n",
       "      <th>5_MoreYears</th>\n",
       "    </tr>\n",
       "  </thead>\n",
       "  <tbody>\n",
       "    <tr>\n",
       "      <th>0</th>\n",
       "      <td>0.724138</td>\n",
       "      <td>0.053808</td>\n",
       "      <td>0.142586</td>\n",
       "      <td>0.236671</td>\n",
       "      <td>0.158776</td>\n",
       "      <td>0.275862</td>\n",
       "      <td>0.236566</td>\n",
       "      <td>0.167659</td>\n",
       "      <td>1.0</td>\n",
       "      <td>0.0</td>\n",
       "      <td>1.0</td>\n",
       "      <td>0.0</td>\n",
       "      <td>0.0</td>\n",
       "      <td>0.0</td>\n",
       "      <td>1.0</td>\n",
       "      <td>1.0</td>\n",
       "      <td>0.0</td>\n",
       "    </tr>\n",
       "    <tr>\n",
       "      <th>1</th>\n",
       "      <td>0.620690</td>\n",
       "      <td>0.065625</td>\n",
       "      <td>0.104052</td>\n",
       "      <td>0.295468</td>\n",
       "      <td>0.283414</td>\n",
       "      <td>0.379310</td>\n",
       "      <td>0.823407</td>\n",
       "      <td>0.515065</td>\n",
       "      <td>0.0</td>\n",
       "      <td>0.0</td>\n",
       "      <td>1.0</td>\n",
       "      <td>0.0</td>\n",
       "      <td>0.0</td>\n",
       "      <td>0.0</td>\n",
       "      <td>0.0</td>\n",
       "      <td>1.0</td>\n",
       "      <td>0.0</td>\n",
       "    </tr>\n",
       "    <tr>\n",
       "      <th>2</th>\n",
       "      <td>0.896552</td>\n",
       "      <td>0.049768</td>\n",
       "      <td>0.201638</td>\n",
       "      <td>0.184834</td>\n",
       "      <td>0.111111</td>\n",
       "      <td>0.103448</td>\n",
       "      <td>0.194048</td>\n",
       "      <td>0.318691</td>\n",
       "      <td>1.0</td>\n",
       "      <td>0.0</td>\n",
       "      <td>1.0</td>\n",
       "      <td>0.0</td>\n",
       "      <td>0.0</td>\n",
       "      <td>0.0</td>\n",
       "      <td>1.0</td>\n",
       "      <td>1.0</td>\n",
       "      <td>0.0</td>\n",
       "    </tr>\n",
       "    <tr>\n",
       "      <th>3</th>\n",
       "      <td>0.931034</td>\n",
       "      <td>0.010034</td>\n",
       "      <td>0.171034</td>\n",
       "      <td>0.177577</td>\n",
       "      <td>0.127214</td>\n",
       "      <td>0.068966</td>\n",
       "      <td>0.178964</td>\n",
       "      <td>0.256955</td>\n",
       "      <td>1.0</td>\n",
       "      <td>0.0</td>\n",
       "      <td>0.0</td>\n",
       "      <td>0.0</td>\n",
       "      <td>0.0</td>\n",
       "      <td>1.0</td>\n",
       "      <td>1.0</td>\n",
       "      <td>1.0</td>\n",
       "      <td>0.0</td>\n",
       "    </tr>\n",
       "    <tr>\n",
       "      <th>4</th>\n",
       "      <td>0.551724</td>\n",
       "      <td>0.074012</td>\n",
       "      <td>0.081897</td>\n",
       "      <td>0.266440</td>\n",
       "      <td>0.201288</td>\n",
       "      <td>0.448276</td>\n",
       "      <td>0.258412</td>\n",
       "      <td>0.122249</td>\n",
       "      <td>1.0</td>\n",
       "      <td>0.0</td>\n",
       "      <td>0.0</td>\n",
       "      <td>0.0</td>\n",
       "      <td>0.0</td>\n",
       "      <td>1.0</td>\n",
       "      <td>1.0</td>\n",
       "      <td>1.0</td>\n",
       "      <td>0.0</td>\n",
       "    </tr>\n",
       "  </tbody>\n",
       "</table>\n",
       "</div>"
      ],
      "text/plain": [
       "       year  km_driven   mileage    engine  max_power       age      make  \\\n",
       "0  0.724138   0.053808  0.142586  0.236671   0.158776  0.275862  0.236566   \n",
       "1  0.620690   0.065625  0.104052  0.295468   0.283414  0.379310  0.823407   \n",
       "2  0.896552   0.049768  0.201638  0.184834   0.111111  0.103448  0.194048   \n",
       "3  0.931034   0.010034  0.171034  0.177577   0.127214  0.068966  0.178964   \n",
       "4  0.551724   0.074012  0.081897  0.266440   0.201288  0.448276  0.258412   \n",
       "\n",
       "      model  Individual  Trustmark Dealer  Diesel  Electric  LPG  Petrol  \\\n",
       "0  0.167659         1.0               0.0     1.0       0.0  0.0     0.0   \n",
       "1  0.515065         0.0               0.0     1.0       0.0  0.0     0.0   \n",
       "2  0.318691         1.0               0.0     1.0       0.0  0.0     0.0   \n",
       "3  0.256955         1.0               0.0     0.0       0.0  0.0     1.0   \n",
       "4  0.122249         1.0               0.0     0.0       0.0  0.0     1.0   \n",
       "\n",
       "   Manual  5Years  5_MoreYears  \n",
       "0     1.0     1.0          0.0  \n",
       "1     0.0     1.0          0.0  \n",
       "2     1.0     1.0          0.0  \n",
       "3     1.0     1.0          0.0  \n",
       "4     1.0     1.0          0.0  "
      ]
     },
     "execution_count": 138,
     "metadata": {},
     "output_type": "execute_result"
    }
   ],
   "source": [
    "X_train = pd.DataFrame(scaling.fit_transform(X_train), columns=X_train.columns)\n",
    "X_train.head()"
   ]
  },
  {
   "cell_type": "code",
   "execution_count": 147,
   "id": "f3b65f83",
   "metadata": {},
   "outputs": [
    {
     "data": {
      "text/html": [
       "<div>\n",
       "<style scoped>\n",
       "    .dataframe tbody tr th:only-of-type {\n",
       "        vertical-align: middle;\n",
       "    }\n",
       "\n",
       "    .dataframe tbody tr th {\n",
       "        vertical-align: top;\n",
       "    }\n",
       "\n",
       "    .dataframe thead th {\n",
       "        text-align: right;\n",
       "    }\n",
       "</style>\n",
       "<table border=\"1\" class=\"dataframe\">\n",
       "  <thead>\n",
       "    <tr style=\"text-align: right;\">\n",
       "      <th></th>\n",
       "      <th>year</th>\n",
       "      <th>km_driven</th>\n",
       "      <th>mileage</th>\n",
       "      <th>engine</th>\n",
       "      <th>max_power</th>\n",
       "      <th>age</th>\n",
       "      <th>make</th>\n",
       "      <th>model</th>\n",
       "      <th>Individual</th>\n",
       "      <th>Trustmark Dealer</th>\n",
       "      <th>Diesel</th>\n",
       "      <th>Electric</th>\n",
       "      <th>LPG</th>\n",
       "      <th>Petrol</th>\n",
       "      <th>Manual</th>\n",
       "      <th>5Years</th>\n",
       "      <th>5_MoreYears</th>\n",
       "    </tr>\n",
       "  </thead>\n",
       "  <tbody>\n",
       "    <tr>\n",
       "      <th>0</th>\n",
       "      <td>0.826087</td>\n",
       "      <td>0.020795</td>\n",
       "      <td>0.147104</td>\n",
       "      <td>0.219620</td>\n",
       "      <td>0.143011</td>\n",
       "      <td>0.173913</td>\n",
       "      <td>0.190168</td>\n",
       "      <td>0.197188</td>\n",
       "      <td>1.0</td>\n",
       "      <td>0.0</td>\n",
       "      <td>1.0</td>\n",
       "      <td>0.0</td>\n",
       "      <td>0.0</td>\n",
       "      <td>0.0</td>\n",
       "      <td>1.0</td>\n",
       "      <td>1.0</td>\n",
       "      <td>0.0</td>\n",
       "    </tr>\n",
       "    <tr>\n",
       "      <th>1</th>\n",
       "      <td>0.739130</td>\n",
       "      <td>0.015925</td>\n",
       "      <td>0.132625</td>\n",
       "      <td>0.225247</td>\n",
       "      <td>0.150179</td>\n",
       "      <td>0.260870</td>\n",
       "      <td>0.236566</td>\n",
       "      <td>0.225896</td>\n",
       "      <td>0.0</td>\n",
       "      <td>0.0</td>\n",
       "      <td>1.0</td>\n",
       "      <td>0.0</td>\n",
       "      <td>0.0</td>\n",
       "      <td>0.0</td>\n",
       "      <td>1.0</td>\n",
       "      <td>1.0</td>\n",
       "      <td>0.0</td>\n",
       "    </tr>\n",
       "    <tr>\n",
       "      <th>2</th>\n",
       "      <td>0.782609</td>\n",
       "      <td>0.018531</td>\n",
       "      <td>0.201737</td>\n",
       "      <td>0.225247</td>\n",
       "      <td>0.167742</td>\n",
       "      <td>0.217391</td>\n",
       "      <td>0.258412</td>\n",
       "      <td>0.254237</td>\n",
       "      <td>0.0</td>\n",
       "      <td>0.0</td>\n",
       "      <td>1.0</td>\n",
       "      <td>0.0</td>\n",
       "      <td>0.0</td>\n",
       "      <td>0.0</td>\n",
       "      <td>1.0</td>\n",
       "      <td>1.0</td>\n",
       "      <td>0.0</td>\n",
       "    </tr>\n",
       "    <tr>\n",
       "      <th>3</th>\n",
       "      <td>0.782609</td>\n",
       "      <td>0.007742</td>\n",
       "      <td>0.118726</td>\n",
       "      <td>0.179772</td>\n",
       "      <td>0.150000</td>\n",
       "      <td>0.217391</td>\n",
       "      <td>0.258412</td>\n",
       "      <td>0.261147</td>\n",
       "      <td>0.0</td>\n",
       "      <td>0.0</td>\n",
       "      <td>0.0</td>\n",
       "      <td>0.0</td>\n",
       "      <td>0.0</td>\n",
       "      <td>1.0</td>\n",
       "      <td>1.0</td>\n",
       "      <td>1.0</td>\n",
       "      <td>0.0</td>\n",
       "    </tr>\n",
       "    <tr>\n",
       "      <th>4</th>\n",
       "      <td>0.608696</td>\n",
       "      <td>0.015530</td>\n",
       "      <td>0.140154</td>\n",
       "      <td>0.149202</td>\n",
       "      <td>0.111290</td>\n",
       "      <td>0.391304</td>\n",
       "      <td>0.194048</td>\n",
       "      <td>0.089876</td>\n",
       "      <td>1.0</td>\n",
       "      <td>0.0</td>\n",
       "      <td>0.0</td>\n",
       "      <td>0.0</td>\n",
       "      <td>0.0</td>\n",
       "      <td>1.0</td>\n",
       "      <td>1.0</td>\n",
       "      <td>1.0</td>\n",
       "      <td>0.0</td>\n",
       "    </tr>\n",
       "  </tbody>\n",
       "</table>\n",
       "</div>"
      ],
      "text/plain": [
       "       year  km_driven   mileage    engine  max_power       age      make  \\\n",
       "0  0.826087   0.020795  0.147104  0.219620   0.143011  0.173913  0.190168   \n",
       "1  0.739130   0.015925  0.132625  0.225247   0.150179  0.260870  0.236566   \n",
       "2  0.782609   0.018531  0.201737  0.225247   0.167742  0.217391  0.258412   \n",
       "3  0.782609   0.007742  0.118726  0.179772   0.150000  0.217391  0.258412   \n",
       "4  0.608696   0.015530  0.140154  0.149202   0.111290  0.391304  0.194048   \n",
       "\n",
       "      model  Individual  Trustmark Dealer  Diesel  Electric  LPG  Petrol  \\\n",
       "0  0.197188         1.0               0.0     1.0       0.0  0.0     0.0   \n",
       "1  0.225896         0.0               0.0     1.0       0.0  0.0     0.0   \n",
       "2  0.254237         0.0               0.0     1.0       0.0  0.0     0.0   \n",
       "3  0.261147         0.0               0.0     0.0       0.0  0.0     1.0   \n",
       "4  0.089876         1.0               0.0     0.0       0.0  0.0     1.0   \n",
       "\n",
       "   Manual  5Years  5_MoreYears  \n",
       "0     1.0     1.0          0.0  \n",
       "1     1.0     1.0          0.0  \n",
       "2     1.0     1.0          0.0  \n",
       "3     1.0     1.0          0.0  \n",
       "4     1.0     1.0          0.0  "
      ]
     },
     "execution_count": 147,
     "metadata": {},
     "output_type": "execute_result"
    }
   ],
   "source": [
    "X_test = pd.DataFrame(scaling.fit_transform(X_test), columns=X_test.columns)\n",
    "X_test.head()"
   ]
  },
  {
   "cell_type": "code",
   "execution_count": 149,
   "id": "1dae7896",
   "metadata": {},
   "outputs": [
    {
     "data": {
      "text/html": [
       "<style>#sk-container-id-3 {color: black;background-color: white;}#sk-container-id-3 pre{padding: 0;}#sk-container-id-3 div.sk-toggleable {background-color: white;}#sk-container-id-3 label.sk-toggleable__label {cursor: pointer;display: block;width: 100%;margin-bottom: 0;padding: 0.3em;box-sizing: border-box;text-align: center;}#sk-container-id-3 label.sk-toggleable__label-arrow:before {content: \"▸\";float: left;margin-right: 0.25em;color: #696969;}#sk-container-id-3 label.sk-toggleable__label-arrow:hover:before {color: black;}#sk-container-id-3 div.sk-estimator:hover label.sk-toggleable__label-arrow:before {color: black;}#sk-container-id-3 div.sk-toggleable__content {max-height: 0;max-width: 0;overflow: hidden;text-align: left;background-color: #f0f8ff;}#sk-container-id-3 div.sk-toggleable__content pre {margin: 0.2em;color: black;border-radius: 0.25em;background-color: #f0f8ff;}#sk-container-id-3 input.sk-toggleable__control:checked~div.sk-toggleable__content {max-height: 200px;max-width: 100%;overflow: auto;}#sk-container-id-3 input.sk-toggleable__control:checked~label.sk-toggleable__label-arrow:before {content: \"▾\";}#sk-container-id-3 div.sk-estimator input.sk-toggleable__control:checked~label.sk-toggleable__label {background-color: #d4ebff;}#sk-container-id-3 div.sk-label input.sk-toggleable__control:checked~label.sk-toggleable__label {background-color: #d4ebff;}#sk-container-id-3 input.sk-hidden--visually {border: 0;clip: rect(1px 1px 1px 1px);clip: rect(1px, 1px, 1px, 1px);height: 1px;margin: -1px;overflow: hidden;padding: 0;position: absolute;width: 1px;}#sk-container-id-3 div.sk-estimator {font-family: monospace;background-color: #f0f8ff;border: 1px dotted black;border-radius: 0.25em;box-sizing: border-box;margin-bottom: 0.5em;}#sk-container-id-3 div.sk-estimator:hover {background-color: #d4ebff;}#sk-container-id-3 div.sk-parallel-item::after {content: \"\";width: 100%;border-bottom: 1px solid gray;flex-grow: 1;}#sk-container-id-3 div.sk-label:hover label.sk-toggleable__label {background-color: #d4ebff;}#sk-container-id-3 div.sk-serial::before {content: \"\";position: absolute;border-left: 1px solid gray;box-sizing: border-box;top: 0;bottom: 0;left: 50%;z-index: 0;}#sk-container-id-3 div.sk-serial {display: flex;flex-direction: column;align-items: center;background-color: white;padding-right: 0.2em;padding-left: 0.2em;position: relative;}#sk-container-id-3 div.sk-item {position: relative;z-index: 1;}#sk-container-id-3 div.sk-parallel {display: flex;align-items: stretch;justify-content: center;background-color: white;position: relative;}#sk-container-id-3 div.sk-item::before, #sk-container-id-3 div.sk-parallel-item::before {content: \"\";position: absolute;border-left: 1px solid gray;box-sizing: border-box;top: 0;bottom: 0;left: 50%;z-index: -1;}#sk-container-id-3 div.sk-parallel-item {display: flex;flex-direction: column;z-index: 1;position: relative;background-color: white;}#sk-container-id-3 div.sk-parallel-item:first-child::after {align-self: flex-end;width: 50%;}#sk-container-id-3 div.sk-parallel-item:last-child::after {align-self: flex-start;width: 50%;}#sk-container-id-3 div.sk-parallel-item:only-child::after {width: 0;}#sk-container-id-3 div.sk-dashed-wrapped {border: 1px dashed gray;margin: 0 0.4em 0.5em 0.4em;box-sizing: border-box;padding-bottom: 0.4em;background-color: white;}#sk-container-id-3 div.sk-label label {font-family: monospace;font-weight: bold;display: inline-block;line-height: 1.2em;}#sk-container-id-3 div.sk-label-container {text-align: center;}#sk-container-id-3 div.sk-container {/* jupyter's `normalize.less` sets `[hidden] { display: none; }` but bootstrap.min.css set `[hidden] { display: none !important; }` so we also need the `!important` here to be able to override the default hidden behavior on the sphinx rendered scikit-learn.org. See: https://github.com/scikit-learn/scikit-learn/issues/21755 */display: inline-block !important;position: relative;}#sk-container-id-3 div.sk-text-repr-fallback {display: none;}</style><div id=\"sk-container-id-3\" class=\"sk-top-container\"><div class=\"sk-text-repr-fallback\"><pre>LinearRegression()</pre><b>In a Jupyter environment, please rerun this cell to show the HTML representation or trust the notebook. <br />On GitHub, the HTML representation is unable to render, please try loading this page with nbviewer.org.</b></div><div class=\"sk-container\" hidden><div class=\"sk-item\"><div class=\"sk-estimator sk-toggleable\"><input class=\"sk-toggleable__control sk-hidden--visually\" id=\"sk-estimator-id-3\" type=\"checkbox\" checked><label for=\"sk-estimator-id-3\" class=\"sk-toggleable__label sk-toggleable__label-arrow\">LinearRegression</label><div class=\"sk-toggleable__content\"><pre>LinearRegression()</pre></div></div></div></div></div>"
      ],
      "text/plain": [
       "LinearRegression()"
      ]
     },
     "execution_count": 149,
     "metadata": {},
     "output_type": "execute_result"
    }
   ],
   "source": [
    "Model = LinearRegression()\n",
    "Model"
   ]
  },
  {
   "cell_type": "code",
   "execution_count": 150,
   "id": "b4a50d3e",
   "metadata": {},
   "outputs": [
    {
     "data": {
      "text/html": [
       "<style>#sk-container-id-4 {color: black;background-color: white;}#sk-container-id-4 pre{padding: 0;}#sk-container-id-4 div.sk-toggleable {background-color: white;}#sk-container-id-4 label.sk-toggleable__label {cursor: pointer;display: block;width: 100%;margin-bottom: 0;padding: 0.3em;box-sizing: border-box;text-align: center;}#sk-container-id-4 label.sk-toggleable__label-arrow:before {content: \"▸\";float: left;margin-right: 0.25em;color: #696969;}#sk-container-id-4 label.sk-toggleable__label-arrow:hover:before {color: black;}#sk-container-id-4 div.sk-estimator:hover label.sk-toggleable__label-arrow:before {color: black;}#sk-container-id-4 div.sk-toggleable__content {max-height: 0;max-width: 0;overflow: hidden;text-align: left;background-color: #f0f8ff;}#sk-container-id-4 div.sk-toggleable__content pre {margin: 0.2em;color: black;border-radius: 0.25em;background-color: #f0f8ff;}#sk-container-id-4 input.sk-toggleable__control:checked~div.sk-toggleable__content {max-height: 200px;max-width: 100%;overflow: auto;}#sk-container-id-4 input.sk-toggleable__control:checked~label.sk-toggleable__label-arrow:before {content: \"▾\";}#sk-container-id-4 div.sk-estimator input.sk-toggleable__control:checked~label.sk-toggleable__label {background-color: #d4ebff;}#sk-container-id-4 div.sk-label input.sk-toggleable__control:checked~label.sk-toggleable__label {background-color: #d4ebff;}#sk-container-id-4 input.sk-hidden--visually {border: 0;clip: rect(1px 1px 1px 1px);clip: rect(1px, 1px, 1px, 1px);height: 1px;margin: -1px;overflow: hidden;padding: 0;position: absolute;width: 1px;}#sk-container-id-4 div.sk-estimator {font-family: monospace;background-color: #f0f8ff;border: 1px dotted black;border-radius: 0.25em;box-sizing: border-box;margin-bottom: 0.5em;}#sk-container-id-4 div.sk-estimator:hover {background-color: #d4ebff;}#sk-container-id-4 div.sk-parallel-item::after {content: \"\";width: 100%;border-bottom: 1px solid gray;flex-grow: 1;}#sk-container-id-4 div.sk-label:hover label.sk-toggleable__label {background-color: #d4ebff;}#sk-container-id-4 div.sk-serial::before {content: \"\";position: absolute;border-left: 1px solid gray;box-sizing: border-box;top: 0;bottom: 0;left: 50%;z-index: 0;}#sk-container-id-4 div.sk-serial {display: flex;flex-direction: column;align-items: center;background-color: white;padding-right: 0.2em;padding-left: 0.2em;position: relative;}#sk-container-id-4 div.sk-item {position: relative;z-index: 1;}#sk-container-id-4 div.sk-parallel {display: flex;align-items: stretch;justify-content: center;background-color: white;position: relative;}#sk-container-id-4 div.sk-item::before, #sk-container-id-4 div.sk-parallel-item::before {content: \"\";position: absolute;border-left: 1px solid gray;box-sizing: border-box;top: 0;bottom: 0;left: 50%;z-index: -1;}#sk-container-id-4 div.sk-parallel-item {display: flex;flex-direction: column;z-index: 1;position: relative;background-color: white;}#sk-container-id-4 div.sk-parallel-item:first-child::after {align-self: flex-end;width: 50%;}#sk-container-id-4 div.sk-parallel-item:last-child::after {align-self: flex-start;width: 50%;}#sk-container-id-4 div.sk-parallel-item:only-child::after {width: 0;}#sk-container-id-4 div.sk-dashed-wrapped {border: 1px dashed gray;margin: 0 0.4em 0.5em 0.4em;box-sizing: border-box;padding-bottom: 0.4em;background-color: white;}#sk-container-id-4 div.sk-label label {font-family: monospace;font-weight: bold;display: inline-block;line-height: 1.2em;}#sk-container-id-4 div.sk-label-container {text-align: center;}#sk-container-id-4 div.sk-container {/* jupyter's `normalize.less` sets `[hidden] { display: none; }` but bootstrap.min.css set `[hidden] { display: none !important; }` so we also need the `!important` here to be able to override the default hidden behavior on the sphinx rendered scikit-learn.org. See: https://github.com/scikit-learn/scikit-learn/issues/21755 */display: inline-block !important;position: relative;}#sk-container-id-4 div.sk-text-repr-fallback {display: none;}</style><div id=\"sk-container-id-4\" class=\"sk-top-container\"><div class=\"sk-text-repr-fallback\"><pre>LinearRegression()</pre><b>In a Jupyter environment, please rerun this cell to show the HTML representation or trust the notebook. <br />On GitHub, the HTML representation is unable to render, please try loading this page with nbviewer.org.</b></div><div class=\"sk-container\" hidden><div class=\"sk-item\"><div class=\"sk-estimator sk-toggleable\"><input class=\"sk-toggleable__control sk-hidden--visually\" id=\"sk-estimator-id-4\" type=\"checkbox\" checked><label for=\"sk-estimator-id-4\" class=\"sk-toggleable__label sk-toggleable__label-arrow\">LinearRegression</label><div class=\"sk-toggleable__content\"><pre>LinearRegression()</pre></div></div></div></div></div>"
      ],
      "text/plain": [
       "LinearRegression()"
      ]
     },
     "execution_count": 150,
     "metadata": {},
     "output_type": "execute_result"
    }
   ],
   "source": [
    "Model.fit(X_train, y_train)"
   ]
  },
  {
   "cell_type": "code",
   "execution_count": 152,
   "id": "f5a2b8c3",
   "metadata": {},
   "outputs": [
    {
     "data": {
      "text/plain": [
       "array([ 1.42654765e+13, -4.66958992e+00, -5.12637233e+00,  1.77893483e+00,\n",
       "        6.78165714e-01,  1.42654765e+13,  1.39511145e+00,  1.76743433e+01,\n",
       "       -1.21605306e-01, -1.64703620e-01,  1.20929458e-01,  2.55563717e+00,\n",
       "        3.08518979e-01, -2.07020803e-01, -8.91222732e-02, -2.55625769e-01,\n",
       "       -4.20224242e-01])"
      ]
     },
     "execution_count": 152,
     "metadata": {},
     "output_type": "execute_result"
    }
   ],
   "source": [
    "Model.coef_"
   ]
  },
  {
   "cell_type": "code",
   "execution_count": 151,
   "id": "1cc1307d",
   "metadata": {},
   "outputs": [
    {
     "data": {
      "text/plain": [
       "-14265476539936.92"
      ]
     },
     "execution_count": 151,
     "metadata": {},
     "output_type": "execute_result"
    }
   ],
   "source": [
    "Model.intercept_"
   ]
  },
  {
   "cell_type": "code",
   "execution_count": 155,
   "id": "242c28bb",
   "metadata": {},
   "outputs": [
    {
     "data": {
      "text/plain": [
       "0.9454997077016751"
      ]
     },
     "execution_count": 155,
     "metadata": {},
     "output_type": "execute_result"
    }
   ],
   "source": [
    "Model.score(X_train, y_train)"
   ]
  },
  {
   "cell_type": "code",
   "execution_count": 156,
   "id": "754767ef",
   "metadata": {},
   "outputs": [
    {
     "data": {
      "text/plain": [
       "0.9472321879492599"
      ]
     },
     "execution_count": 156,
     "metadata": {},
     "output_type": "execute_result"
    }
   ],
   "source": [
    "Model.score(X_test, y_test)"
   ]
  },
  {
   "cell_type": "code",
   "execution_count": 163,
   "id": "48fd8dcd",
   "metadata": {},
   "outputs": [],
   "source": [
    "# lets Predict for some data"
   ]
  },
  {
   "cell_type": "code",
   "execution_count": 169,
   "id": "70178ec4",
   "metadata": {},
   "outputs": [
    {
     "data": {
      "text/plain": [
       "5662     5.25\n",
       "4556     8.25\n",
       "7094     7.50\n",
       "1441     5.70\n",
       "17079    4.00\n",
       "8687     7.50\n",
       "16301    4.85\n",
       "19537    6.35\n",
       "10004    0.90\n",
       "5248     2.75\n",
       "Name: selling_price, dtype: float64"
      ]
     },
     "execution_count": 169,
     "metadata": {},
     "output_type": "execute_result"
    }
   ],
   "source": [
    "y_train[:10]"
   ]
  },
  {
   "cell_type": "code",
   "execution_count": 171,
   "id": "e06017dd",
   "metadata": {},
   "outputs": [
    {
     "data": {
      "text/plain": [
       "array([ 3.7734375 , 10.828125  ,  6.99023438,  5.97070312,  2.16210938,\n",
       "        7.40429688,  4.97265625,  5.93554688, -0.77734375,  2.25585938])"
      ]
     },
     "execution_count": 171,
     "metadata": {},
     "output_type": "execute_result"
    }
   ],
   "source": [
    "Model.predict(X_train)[:10]"
   ]
  },
  {
   "cell_type": "code",
   "execution_count": 198,
   "id": "740b6eab",
   "metadata": {},
   "outputs": [
    {
     "data": {
      "text/plain": [
       "array([[ 7.  ],\n",
       "       [ 4.75],\n",
       "       [ 6.3 ],\n",
       "       [ 5.25],\n",
       "       [ 2.1 ],\n",
       "       [12.  ],\n",
       "       [ 2.48],\n",
       "       [ 3.5 ],\n",
       "       [ 5.  ],\n",
       "       [ 1.25]])"
      ]
     },
     "execution_count": 198,
     "metadata": {},
     "output_type": "execute_result"
    }
   ],
   "source": [
    "y_test[:10]"
   ]
  },
  {
   "cell_type": "code",
   "execution_count": 192,
   "id": "2812f2d7",
   "metadata": {},
   "outputs": [],
   "source": [
    "y_test = y_test.values"
   ]
  },
  {
   "cell_type": "code",
   "execution_count": 194,
   "id": "8ee23fb5",
   "metadata": {},
   "outputs": [
    {
     "data": {
      "text/plain": [
       "(3964, 1)"
      ]
     },
     "execution_count": 194,
     "metadata": {},
     "output_type": "execute_result"
    }
   ],
   "source": [
    "y_test = y_test.reshape(-1,1)\n",
    "y_test.shape"
   ]
  },
  {
   "cell_type": "code",
   "execution_count": 199,
   "id": "960fff9e",
   "metadata": {},
   "outputs": [
    {
     "data": {
      "text/plain": [
       "array([[ 7.  ],\n",
       "       [ 4.75],\n",
       "       [ 6.3 ],\n",
       "       [ 5.25],\n",
       "       [ 2.1 ],\n",
       "       [12.  ],\n",
       "       [ 2.48],\n",
       "       [ 3.5 ],\n",
       "       [ 5.  ],\n",
       "       [ 1.25]])"
      ]
     },
     "execution_count": 199,
     "metadata": {},
     "output_type": "execute_result"
    }
   ],
   "source": [
    "y_test[:10]"
   ]
  },
  {
   "cell_type": "code",
   "execution_count": 197,
   "id": "65d9abf0",
   "metadata": {},
   "outputs": [
    {
     "data": {
      "text/plain": [
       "array([5.05273438, 5.29296875, 5.65234375, ..., 0.45507812, 2.36523438,\n",
       "       6.9765625 ])"
      ]
     },
     "execution_count": 197,
     "metadata": {},
     "output_type": "execute_result"
    }
   ],
   "source": [
    "Model.predict(X_test)"
   ]
  },
  {
   "cell_type": "code",
   "execution_count": null,
   "id": "53362134",
   "metadata": {},
   "outputs": [],
   "source": []
  }
 ],
 "metadata": {
  "kernelspec": {
   "display_name": "Python 3 (ipykernel)",
   "language": "python",
   "name": "python3"
  },
  "language_info": {
   "codemirror_mode": {
    "name": "ipython",
    "version": 3
   },
   "file_extension": ".py",
   "mimetype": "text/x-python",
   "name": "python",
   "nbconvert_exporter": "python",
   "pygments_lexer": "ipython3",
   "version": "3.10.9"
  }
 },
 "nbformat": 4,
 "nbformat_minor": 5
}
